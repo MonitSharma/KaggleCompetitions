{
 "cells": [
  {
   "cell_type": "markdown",
   "metadata": {},
   "source": [
    "## Variational Classifier"
   ]
  },
  {
   "cell_type": "code",
   "execution_count": 1,
   "metadata": {},
   "outputs": [],
   "source": [
    "# Import libraries\n",
    "import pandas as pd               # Data manipulation\n",
    "\n",
    "import matplotlib.pyplot as plt   # Plotting\n",
    "import seaborn as sns             # Advanced plotting\n",
    "\n",
    "# Set plot style\n",
    "sns.set_style('whitegrid')\n",
    "plt.rcParams['figure.figsize'] = (10, 6)\n",
    "\n",
    "\n",
    "\n",
    "import pennylane as qml\n",
    "from pennylane import numpy as np\n",
    "from pennylane.optimize import NesterovMomentumOptimizer\n",
    "\n",
    "\n",
    "\n",
    "from sklearn.preprocessing import StandardScaler, LabelEncoder\n",
    "from sklearn.model_selection import train_test_split\n",
    "from sklearn.metrics import accuracy_score\n"
   ]
  },
  {
   "cell_type": "markdown",
   "metadata": {},
   "source": [
    "### Loading in the Datasets"
   ]
  },
  {
   "cell_type": "code",
   "execution_count": 2,
   "metadata": {},
   "outputs": [
    {
     "data": {
      "text/html": [
       "<div>\n",
       "<style scoped>\n",
       "    .dataframe tbody tr th:only-of-type {\n",
       "        vertical-align: middle;\n",
       "    }\n",
       "\n",
       "    .dataframe tbody tr th {\n",
       "        vertical-align: top;\n",
       "    }\n",
       "\n",
       "    .dataframe thead th {\n",
       "        text-align: right;\n",
       "    }\n",
       "</style>\n",
       "<table border=\"1\" class=\"dataframe\">\n",
       "  <thead>\n",
       "    <tr style=\"text-align: right;\">\n",
       "      <th></th>\n",
       "      <th>PassengerId</th>\n",
       "      <th>Survived</th>\n",
       "      <th>Pclass</th>\n",
       "      <th>Name</th>\n",
       "      <th>Sex</th>\n",
       "      <th>Age</th>\n",
       "      <th>SibSp</th>\n",
       "      <th>Parch</th>\n",
       "      <th>Ticket</th>\n",
       "      <th>Fare</th>\n",
       "      <th>Cabin</th>\n",
       "      <th>Embarked</th>\n",
       "    </tr>\n",
       "  </thead>\n",
       "  <tbody>\n",
       "    <tr>\n",
       "      <th>0</th>\n",
       "      <td>1</td>\n",
       "      <td>0</td>\n",
       "      <td>3</td>\n",
       "      <td>Braund, Mr. Owen Harris</td>\n",
       "      <td>male</td>\n",
       "      <td>22.0</td>\n",
       "      <td>1</td>\n",
       "      <td>0</td>\n",
       "      <td>A/5 21171</td>\n",
       "      <td>7.2500</td>\n",
       "      <td>NaN</td>\n",
       "      <td>S</td>\n",
       "    </tr>\n",
       "    <tr>\n",
       "      <th>1</th>\n",
       "      <td>2</td>\n",
       "      <td>1</td>\n",
       "      <td>1</td>\n",
       "      <td>Cumings, Mrs. John Bradley (Florence Briggs Th...</td>\n",
       "      <td>female</td>\n",
       "      <td>38.0</td>\n",
       "      <td>1</td>\n",
       "      <td>0</td>\n",
       "      <td>PC 17599</td>\n",
       "      <td>71.2833</td>\n",
       "      <td>C85</td>\n",
       "      <td>C</td>\n",
       "    </tr>\n",
       "    <tr>\n",
       "      <th>2</th>\n",
       "      <td>3</td>\n",
       "      <td>1</td>\n",
       "      <td>3</td>\n",
       "      <td>Heikkinen, Miss. Laina</td>\n",
       "      <td>female</td>\n",
       "      <td>26.0</td>\n",
       "      <td>0</td>\n",
       "      <td>0</td>\n",
       "      <td>STON/O2. 3101282</td>\n",
       "      <td>7.9250</td>\n",
       "      <td>NaN</td>\n",
       "      <td>S</td>\n",
       "    </tr>\n",
       "    <tr>\n",
       "      <th>3</th>\n",
       "      <td>4</td>\n",
       "      <td>1</td>\n",
       "      <td>1</td>\n",
       "      <td>Futrelle, Mrs. Jacques Heath (Lily May Peel)</td>\n",
       "      <td>female</td>\n",
       "      <td>35.0</td>\n",
       "      <td>1</td>\n",
       "      <td>0</td>\n",
       "      <td>113803</td>\n",
       "      <td>53.1000</td>\n",
       "      <td>C123</td>\n",
       "      <td>S</td>\n",
       "    </tr>\n",
       "    <tr>\n",
       "      <th>4</th>\n",
       "      <td>5</td>\n",
       "      <td>0</td>\n",
       "      <td>3</td>\n",
       "      <td>Allen, Mr. William Henry</td>\n",
       "      <td>male</td>\n",
       "      <td>35.0</td>\n",
       "      <td>0</td>\n",
       "      <td>0</td>\n",
       "      <td>373450</td>\n",
       "      <td>8.0500</td>\n",
       "      <td>NaN</td>\n",
       "      <td>S</td>\n",
       "    </tr>\n",
       "  </tbody>\n",
       "</table>\n",
       "</div>"
      ],
      "text/plain": [
       "   PassengerId  Survived  Pclass  \\\n",
       "0            1         0       3   \n",
       "1            2         1       1   \n",
       "2            3         1       3   \n",
       "3            4         1       1   \n",
       "4            5         0       3   \n",
       "\n",
       "                                                Name     Sex   Age  SibSp  \\\n",
       "0                            Braund, Mr. Owen Harris    male  22.0      1   \n",
       "1  Cumings, Mrs. John Bradley (Florence Briggs Th...  female  38.0      1   \n",
       "2                             Heikkinen, Miss. Laina  female  26.0      0   \n",
       "3       Futrelle, Mrs. Jacques Heath (Lily May Peel)  female  35.0      1   \n",
       "4                           Allen, Mr. William Henry    male  35.0      0   \n",
       "\n",
       "   Parch            Ticket     Fare Cabin Embarked  \n",
       "0      0         A/5 21171   7.2500   NaN        S  \n",
       "1      0          PC 17599  71.2833   C85        C  \n",
       "2      0  STON/O2. 3101282   7.9250   NaN        S  \n",
       "3      0            113803  53.1000  C123        S  \n",
       "4      0            373450   8.0500   NaN        S  "
      ]
     },
     "execution_count": 2,
     "metadata": {},
     "output_type": "execute_result"
    }
   ],
   "source": [
    "# Load datasets\n",
    "train = pd.read_csv('dataset/train.csv')\n",
    "test = pd.read_csv('dataset/test.csv')\n",
    "gender_submission = pd.read_csv('dataset/gender_submission.csv')\n",
    "\n",
    "# Display first few rows of training data\n",
    "train.head()\n"
   ]
  },
  {
   "cell_type": "code",
   "execution_count": 3,
   "metadata": {},
   "outputs": [],
   "source": [
    "# Load the Titanic dataset\n",
    "import pandas as pd\n",
    "\n",
    "data = train\n",
    "\n",
    "# Basic preprocessing\n",
    "data['Age'] = data['Age'].fillna(data['Age'].median())\n",
    "data['Fare'] = data['Fare'].fillna(data['Fare'].median())\n",
    "data['Embarked'] = data['Embarked'].fillna(data['Embarked'].mode()[0])\n",
    "data['Sex'] = LabelEncoder().fit_transform(data['Sex'])\n",
    "\n",
    "# Create FamilySize feature\n",
    "data['FamilySize'] = data['SibSp'] + data['Parch']\n",
    "\n",
    "# Select features and target\n",
    "features = ['Sex', 'Age', 'Fare', 'Pclass', 'FamilySize']\n",
    "X = data[features]\n",
    "y = data['Survived']\n",
    "\n",
    "# Scale features\n",
    "scaler = StandardScaler()\n",
    "X = scaler.fit_transform(X)\n",
    "\n",
    "# Split dataset\n",
    "X_train, X_test, y_train, y_test = train_test_split(X, y, test_size=0.2, random_state=42)\n"
   ]
  },
  {
   "cell_type": "code",
   "execution_count": 4,
   "metadata": {},
   "outputs": [],
   "source": [
    "# Normalize features to [0, π]\n",
    "X_train = (X_train - np.min(X_train, axis=0)) / (np.max(X_train, axis=0) - np.min(X_train, axis=0)) * np.pi\n",
    "X_test = (X_test - np.min(X_test, axis=0)) / (np.max(X_test, axis=0) - np.min(X_test, axis=0)) * np.pi\n"
   ]
  },
  {
   "cell_type": "code",
   "execution_count": 5,
   "metadata": {},
   "outputs": [
    {
     "name": "stdout",
     "output_type": "stream",
     "text": [
      "[[3.14159265 1.77963052 0.17476144 0.         0.        ]\n",
      " [3.14159265 0.89139435 0.07971575 1.57079633 0.        ]\n",
      " [3.14159265 1.24668882 0.04859595 3.14159265 0.        ]\n",
      " ...\n",
      " [3.14159265 1.60198329 0.08651182 3.14159265 0.62831853]\n",
      " [0.         0.53609988 0.73583766 0.         0.9424778 ]\n",
      " [3.14159265 0.81244002 0.47392544 0.         0.31415927]]\n"
     ]
    }
   ],
   "source": [
    "print(X_train)"
   ]
  },
  {
   "cell_type": "markdown",
   "metadata": {},
   "source": [
    "### Quantum State Preparation"
   ]
  },
  {
   "cell_type": "markdown",
   "metadata": {},
   "source": [
    "Every inpyt $x$ has to be translated into set of angles which can get fed into small routines for state preparation."
   ]
  },
  {
   "cell_type": "code",
   "execution_count": 6,
   "metadata": {},
   "outputs": [],
   "source": [
    "n_qubits = len(features)  # Number of qubits based on features\n",
    "n_layers = 5  # Number of variational layers\n",
    "\n",
    "# Define a quantum device\n",
    "dev = qml.device(\"default.qubit\", wires=n_qubits)\n",
    "\n",
    "\n",
    "# Define the variational circuit with increased depth\n",
    "def variational_circuit(weights, x):\n",
    "    for i in range(len(x)):\n",
    "        qml.RX(x[i], wires=i)  # Embed input data\n",
    "    for layer in weights:\n",
    "        for i in range(len(x)):\n",
    "            qml.Rot(layer[i][0], layer[i][1], layer[i][2], wires=i)  # Rotational gates\n",
    "        for i in range(len(x) - 1):\n",
    "            qml.CNOT(wires=[i, i + 1])  # Add entanglement\n",
    "\n",
    "\n",
    "# Define the quantum node\n",
    "@qml.qnode(dev)\n",
    "def quantum_node(weights, x):\n",
    "    variational_circuit(weights, x)\n",
    "    return qml.expval(qml.PauliZ(0))  # Binary classification output\n"
   ]
  },
  {
   "cell_type": "code",
   "execution_count": 7,
   "metadata": {},
   "outputs": [],
   "source": [
    "def variational_classifier(weights, bias, x):\n",
    "    raw_output = quantum_node(weights, x) + bias\n",
    "    probability = (raw_output + 1) / 2  # Scale to [0, 1]\n",
    "    return probability\n"
   ]
  },
  {
   "cell_type": "code",
   "execution_count": 8,
   "metadata": {},
   "outputs": [],
   "source": [
    "def cross_entropy_loss(labels, predictions):\n",
    "    \"\"\"Compute cross-entropy loss using qml.numpy for compatibility.\"\"\"\n",
    "    predictions = qml.numpy.array(predictions)  # Ensure predictions are qml.numpy arrays\n",
    "    predictions = qml.numpy.clip(predictions, 1e-10, 1 - 1e-10)  # Avoid log(0)\n",
    "    return -qml.numpy.mean(labels * qml.numpy.log(predictions) + (1 - labels) * qml.numpy.log(1 - predictions))\n",
    "\n",
    "def regularized_cost(weights, bias, X, y, lambda_reg=0.01):\n",
    "    \"\"\"Regularized cost function.\"\"\"\n",
    "    predictions = [variational_classifier(weights, bias, x) for x in X]\n",
    "    predictions = qml.numpy.array(predictions)  # Convert predictions to qml.numpy array\n",
    "    base_cost = cross_entropy_loss(y, predictions)\n",
    "    reg_cost = lambda_reg * qml.numpy.sum(qml.numpy.square(weights))  # L2 regularization\n",
    "    #print(f\"Predictions: {predictions}, Type: {type(predictions)}\")\n",
    "    return base_cost + reg_cost\n",
    "\n",
    "\n",
    "# Actual cost (without regularization) for monitoring\n",
    "def cost(weights, bias, X, y):\n",
    "    predictions = [variational_classifier(weights, bias, x) for x in X]\n",
    "    return cross_entropy_loss(y, predictions)\n"
   ]
  },
  {
   "cell_type": "code",
   "execution_count": 9,
   "metadata": {},
   "outputs": [
    {
     "name": "stdout",
     "output_type": "stream",
     "text": [
      "Epoch 1: Regularized Cost = 0.5347, Actual Cost = 0.5261, Validation Accuracy = 0.7821\n",
      "Epoch 2: Regularized Cost = 0.4974, Actual Cost = 0.4824, Validation Accuracy = 0.7821\n",
      "Epoch 3: Regularized Cost = 0.4898, Actual Cost = 0.4735, Validation Accuracy = 0.7821\n",
      "Epoch 4: Regularized Cost = 0.4819, Actual Cost = 0.4624, Validation Accuracy = 0.7821\n",
      "Epoch 5: Regularized Cost = 0.4757, Actual Cost = 0.4565, Validation Accuracy = 0.7821\n",
      "Epoch 6: Regularized Cost = 0.4723, Actual Cost = 0.4523, Validation Accuracy = 0.7821\n",
      "Epoch 7: Regularized Cost = 0.4674, Actual Cost = 0.4460, Validation Accuracy = 0.7821\n",
      "Epoch 8: Regularized Cost = 0.4638, Actual Cost = 0.4444, Validation Accuracy = 0.7821\n",
      "Epoch 9: Regularized Cost = 0.4628, Actual Cost = 0.4407, Validation Accuracy = 0.7877\n",
      "Epoch 10: Regularized Cost = 0.4596, Actual Cost = 0.4369, Validation Accuracy = 0.7877\n",
      "Epoch 11: Regularized Cost = 0.4645, Actual Cost = 0.4423, Validation Accuracy = 0.7989\n",
      "Epoch 12: Regularized Cost = 0.4644, Actual Cost = 0.4425, Validation Accuracy = 0.7933\n",
      "Epoch 13: Regularized Cost = 0.4606, Actual Cost = 0.4393, Validation Accuracy = 0.7877\n",
      "Epoch 14: Regularized Cost = 0.4585, Actual Cost = 0.4357, Validation Accuracy = 0.7933\n",
      "Epoch 15: Regularized Cost = 0.4575, Actual Cost = 0.4346, Validation Accuracy = 0.7933\n",
      "Epoch 16: Regularized Cost = 0.4591, Actual Cost = 0.4344, Validation Accuracy = 0.8101\n",
      "Epoch 17: Regularized Cost = 0.4604, Actual Cost = 0.4370, Validation Accuracy = 0.7989\n",
      "Epoch 18: Regularized Cost = 0.4553, Actual Cost = 0.4313, Validation Accuracy = 0.7933\n",
      "Epoch 19: Regularized Cost = 0.4557, Actual Cost = 0.4326, Validation Accuracy = 0.8045\n",
      "Epoch 20: Regularized Cost = 0.4630, Actual Cost = 0.4390, Validation Accuracy = 0.8101\n"
     ]
    }
   ],
   "source": [
    "# Initialize weights and bias\n",
    "n_layers = 10  # Increase from 5 to 10\n",
    "weights = np.random.uniform(low=-0.05, high=0.05, size=(n_layers, n_qubits, 3), requires_grad=True)\n",
    "\n",
    "bias = np.array(0.0, requires_grad=True)\n",
    "\n",
    "# Define the optimizer\n",
    "opt = qml.AdamOptimizer(stepsize=0.005)\n",
    "import matplotlib.pyplot as plt\n",
    "from sklearn.utils import shuffle\n",
    "# Store metrics for plotting\n",
    "train_costs, val_accuracies = [], []\n",
    "\n",
    "# Training parameters\n",
    "batch_size = 10\n",
    "num_epochs = 20\n",
    "lambda_reg = 0.01  # Regularization strength\n",
    "\n",
    "from sklearn.metrics import accuracy_score\n",
    "\n",
    "# Training loop with validation accuracy tracking\n",
    "for epoch in range(num_epochs):\n",
    "    for i in range(0, len(X_train), batch_size):\n",
    "        X_train, y_train = shuffle(X_train, y_train)  # Shuffle training data\n",
    "        X_batch = qml.numpy.array(X_train[i:i + batch_size])  # Convert batch to qml.numpy array\n",
    "        y_batch = qml.numpy.array(y_train[i:i + batch_size])  # Convert labels to qml.numpy array\n",
    "\n",
    "        # Update weights and bias using the regularized cost\n",
    "        weights, bias = opt.step(lambda w, b: regularized_cost(w, b, X_batch, y_batch, lambda_reg), weights, bias)\n",
    "\n",
    "    # Compute training costs for monitoring\n",
    "    train_cost_regularized = regularized_cost(weights, bias, X_train, y_train, lambda_reg)\n",
    "    train_cost_actual = cost(weights, bias, X_train, y_train)\n",
    "\n",
    "    # Compute validation accuracy\n",
    "    val_predictions = [np.round(variational_classifier(weights, bias, x)) for x in X_test]  # Binary predictions (0 or 1)\n",
    "    val_accuracy = accuracy_score(y_test, val_predictions)\n",
    "\n",
    "    # Store metrics\n",
    "    train_costs.append(train_cost_actual)\n",
    "    val_accuracies.append(val_accuracy)\n",
    "    # Print metrics\n",
    "    print(\n",
    "        f\"Epoch {epoch + 1}: Regularized Cost = {train_cost_regularized:.4f}, \"\n",
    "        f\"Actual Cost = {train_cost_actual:.4f}, Validation Accuracy = {val_accuracy:.4f}\"\n",
    "    )\n",
    "\n",
    "\n",
    "\n"
   ]
  },
  {
   "cell_type": "code",
   "execution_count": 10,
   "metadata": {},
   "outputs": [
    {
     "data": {
      "image/png": "[encoded data removed]",
      "text/plain": [
       "<Figure size 1000x600 with 1 Axes>"
      ]
     },
     "metadata": {},
     "output_type": "display_data"
    }
   ],
   "source": [
    "# Plot the learning curves\n",
    "plt.figure(figsize=(10, 6))\n",
    "plt.plot(range(1, num_epochs + 1), train_costs, label=\"Training Cost\")\n",
    "plt.plot(range(1, num_epochs + 1), val_accuracies, label=\"Validation Accuracy\")\n",
    "plt.xlabel(\"Epoch\")\n",
    "plt.ylabel(\"Metric\")\n",
    "plt.title(\"Learning Curves\")\n",
    "plt.legend()\n",
    "plt.show()\n"
   ]
  },
  {
   "cell_type": "code",
   "execution_count": 12,
   "metadata": {},
   "outputs": [
    {
     "name": "stdout",
     "output_type": "stream",
     "text": [
      "Submission file 'submission_vqc.csv' created.\n"
     ]
    }
   ],
   "source": [
    "import pandas as pd\n",
    "\n",
    "# Load the test dataset\n",
    "test_data = pd.read_csv(\"dataset/test.csv\")\n",
    "\n",
    "# Preprocess the test dataset (similar to the training dataset)\n",
    "test_data['Age'] = test_data['Age'].fillna(data['Age'].median())\n",
    "test_data['Fare'] = test_data['Fare'].fillna(data['Fare'].median())\n",
    "test_data['Embarked'] = test_data['Embarked'].fillna(data['Embarked'].mode()[0])\n",
    "test_data['Sex'] = LabelEncoder().fit_transform(test_data['Sex'])\n",
    "\n",
    "# Create FamilySize feature\n",
    "test_data['FamilySize'] = test_data['SibSp'] + test_data['Parch']\n",
    "\n",
    "# Select the same features used during training\n",
    "features = ['Sex', 'Age', 'Fare', 'Pclass', 'FamilySize']\n",
    "X_submission = test_data[features]\n",
    "\n",
    "# Scale the features using the same scaler as for training\n",
    "X_submission = scaler.transform(X_submission)\n",
    "\n",
    "# Predict using the trained quantum classifier\n",
    "submission_predictions = [np.round(variational_classifier(weights, bias, x)) for x in X_submission]\n",
    "\n",
    "# Generate the submission file\n",
    "submission = pd.DataFrame({\n",
    "    'PassengerId': test_data['PassengerId'],\n",
    "    'Survived': [int(pred) for pred in submission_predictions]  # Convert to integer\n",
    "})\n",
    "\n",
    "# Save to CSV\n",
    "submission.to_csv('submission_vqc.csv', index=False)\n",
    "print(\"Submission file 'submission_vqc.csv' created.\")\n"
   ]
  },
  {
   "cell_type": "code",
   "execution_count": null,
   "metadata": {},
   "outputs": [],
   "source": []
  },
  {
   "cell_type": "code",
   "execution_count": null,
   "metadata": {},
   "outputs": [],
   "source": []
  },
  {
   "cell_type": "code",
   "execution_count": null,
   "metadata": {},
   "outputs": [],
   "source": []
  }
 ],
 "metadata": {
  "kernelspec": {
   "display_name": ".venv",
   "language": "python",
   "name": "python3"
  },
  "language_info": {
   "codemirror_mode": {
    "name": "ipython",
    "version": 3
   },
   "file_extension": ".py",
   "mimetype": "text/x-python",
   "name": "python",
   "nbconvert_exporter": "python",
   "pygments_lexer": "ipython3",
   "version": "3.10.15"
  }
 },
 "nbformat": 4,
 "nbformat_minor": 2
}
