{
 "cells": [
  {
   "cell_type": "markdown",
   "metadata": {},
   "source": [
    "# Titanic Survival Prediction - Kaggle Competition\n",
    "## Author: Monit Sharma\n",
    "### Date: 01/12/24"
   ]
  },
  {
   "cell_type": "markdown",
   "metadata": {},
   "source": [
    "### Import Necessary Libraries"
   ]
  },
  {
   "cell_type": "code",
   "execution_count": 1,
   "metadata": {},
   "outputs": [],
   "source": [
    "# Import libraries\n",
    "import pandas as pd               # Data manipulation\n",
    "import numpy as np                # Numerical operations\n",
    "import matplotlib.pyplot as plt   # Plotting\n",
    "import seaborn as sns             # Advanced plotting\n",
    "\n",
    "# Set plot style\n",
    "sns.set_style('whitegrid')\n",
    "plt.rcParams['figure.figsize'] = (10, 6)\n"
   ]
  },
  {
   "cell_type": "markdown",
   "metadata": {},
   "source": [
    "### Load the Dataset"
   ]
  },
  {
   "cell_type": "code",
   "execution_count": 2,
   "metadata": {},
   "outputs": [
    {
     "data": {
      "text/html": [
       "<div>\n",
       "<style scoped>\n",
       "    .dataframe tbody tr th:only-of-type {\n",
       "        vertical-align: middle;\n",
       "    }\n",
       "\n",
       "    .dataframe tbody tr th {\n",
       "        vertical-align: top;\n",
       "    }\n",
       "\n",
       "    .dataframe thead th {\n",
       "        text-align: right;\n",
       "    }\n",
       "</style>\n",
       "<table border=\"1\" class=\"dataframe\">\n",
       "  <thead>\n",
       "    <tr style=\"text-align: right;\">\n",
       "      <th></th>\n",
       "      <th>PassengerId</th>\n",
       "      <th>Survived</th>\n",
       "      <th>Pclass</th>\n",
       "      <th>Name</th>\n",
       "      <th>Sex</th>\n",
       "      <th>Age</th>\n",
       "      <th>SibSp</th>\n",
       "      <th>Parch</th>\n",
       "      <th>Ticket</th>\n",
       "      <th>Fare</th>\n",
       "      <th>Cabin</th>\n",
       "      <th>Embarked</th>\n",
       "    </tr>\n",
       "  </thead>\n",
       "  <tbody>\n",
       "    <tr>\n",
       "      <th>0</th>\n",
       "      <td>1</td>\n",
       "      <td>0</td>\n",
       "      <td>3</td>\n",
       "      <td>Braund, Mr. Owen Harris</td>\n",
       "      <td>male</td>\n",
       "      <td>22.0</td>\n",
       "      <td>1</td>\n",
       "      <td>0</td>\n",
       "      <td>A/5 21171</td>\n",
       "      <td>7.2500</td>\n",
       "      <td>NaN</td>\n",
       "      <td>S</td>\n",
       "    </tr>\n",
       "    <tr>\n",
       "      <th>1</th>\n",
       "      <td>2</td>\n",
       "      <td>1</td>\n",
       "      <td>1</td>\n",
       "      <td>Cumings, Mrs. John Bradley (Florence Briggs Th...</td>\n",
       "      <td>female</td>\n",
       "      <td>38.0</td>\n",
       "      <td>1</td>\n",
       "      <td>0</td>\n",
       "      <td>PC 17599</td>\n",
       "      <td>71.2833</td>\n",
       "      <td>C85</td>\n",
       "      <td>C</td>\n",
       "    </tr>\n",
       "    <tr>\n",
       "      <th>2</th>\n",
       "      <td>3</td>\n",
       "      <td>1</td>\n",
       "      <td>3</td>\n",
       "      <td>Heikkinen, Miss. Laina</td>\n",
       "      <td>female</td>\n",
       "      <td>26.0</td>\n",
       "      <td>0</td>\n",
       "      <td>0</td>\n",
       "      <td>STON/O2. 3101282</td>\n",
       "      <td>7.9250</td>\n",
       "      <td>NaN</td>\n",
       "      <td>S</td>\n",
       "    </tr>\n",
       "    <tr>\n",
       "      <th>3</th>\n",
       "      <td>4</td>\n",
       "      <td>1</td>\n",
       "      <td>1</td>\n",
       "      <td>Futrelle, Mrs. Jacques Heath (Lily May Peel)</td>\n",
       "      <td>female</td>\n",
       "      <td>35.0</td>\n",
       "      <td>1</td>\n",
       "      <td>0</td>\n",
       "      <td>113803</td>\n",
       "      <td>53.1000</td>\n",
       "      <td>C123</td>\n",
       "      <td>S</td>\n",
       "    </tr>\n",
       "    <tr>\n",
       "      <th>4</th>\n",
       "      <td>5</td>\n",
       "      <td>0</td>\n",
       "      <td>3</td>\n",
       "      <td>Allen, Mr. William Henry</td>\n",
       "      <td>male</td>\n",
       "      <td>35.0</td>\n",
       "      <td>0</td>\n",
       "      <td>0</td>\n",
       "      <td>373450</td>\n",
       "      <td>8.0500</td>\n",
       "      <td>NaN</td>\n",
       "      <td>S</td>\n",
       "    </tr>\n",
       "  </tbody>\n",
       "</table>\n",
       "</div>"
      ],
      "text/plain": [
       "   PassengerId  Survived  Pclass  \\\n",
       "0            1         0       3   \n",
       "1            2         1       1   \n",
       "2            3         1       3   \n",
       "3            4         1       1   \n",
       "4            5         0       3   \n",
       "\n",
       "                                                Name     Sex   Age  SibSp  \\\n",
       "0                            Braund, Mr. Owen Harris    male  22.0      1   \n",
       "1  Cumings, Mrs. John Bradley (Florence Briggs Th...  female  38.0      1   \n",
       "2                             Heikkinen, Miss. Laina  female  26.0      0   \n",
       "3       Futrelle, Mrs. Jacques Heath (Lily May Peel)  female  35.0      1   \n",
       "4                           Allen, Mr. William Henry    male  35.0      0   \n",
       "\n",
       "   Parch            Ticket     Fare Cabin Embarked  \n",
       "0      0         A/5 21171   7.2500   NaN        S  \n",
       "1      0          PC 17599  71.2833   C85        C  \n",
       "2      0  STON/O2. 3101282   7.9250   NaN        S  \n",
       "3      0            113803  53.1000  C123        S  \n",
       "4      0            373450   8.0500   NaN        S  "
      ]
     },
     "execution_count": 2,
     "metadata": {},
     "output_type": "execute_result"
    }
   ],
   "source": [
    "# Load datasets\n",
    "train = pd.read_csv('dataset/train.csv')\n",
    "test = pd.read_csv('dataset/test.csv')\n",
    "gender_submission = pd.read_csv('dataset/gender_submission.csv')\n",
    "\n",
    "# Display first few rows of training data\n",
    "train.head()\n"
   ]
  },
  {
   "cell_type": "markdown",
   "metadata": {},
   "source": [
    "### Data Overview and Insights"
   ]
  },
  {
   "cell_type": "code",
   "execution_count": 3,
   "metadata": {},
   "outputs": [
    {
     "name": "stdout",
     "output_type": "stream",
     "text": [
      "Training Data Info:\n",
      "<class 'pandas.core.frame.DataFrame'>\n",
      "RangeIndex: 891 entries, 0 to 890\n",
      "Data columns (total 12 columns):\n",
      " #   Column       Non-Null Count  Dtype  \n",
      "---  ------       --------------  -----  \n",
      " 0   PassengerId  891 non-null    int64  \n",
      " 1   Survived     891 non-null    int64  \n",
      " 2   Pclass       891 non-null    int64  \n",
      " 3   Name         891 non-null    object \n",
      " 4   Sex          891 non-null    object \n",
      " 5   Age          714 non-null    float64\n",
      " 6   SibSp        891 non-null    int64  \n",
      " 7   Parch        891 non-null    int64  \n",
      " 8   Ticket       891 non-null    object \n",
      " 9   Fare         891 non-null    float64\n",
      " 10  Cabin        204 non-null    object \n",
      " 11  Embarked     889 non-null    object \n",
      "dtypes: float64(2), int64(5), object(5)\n",
      "memory usage: 83.7+ KB\n",
      "None\n"
     ]
    }
   ],
   "source": [
    "# General info\n",
    "print(\"Training Data Info:\")\n",
    "print(train.info())\n",
    "\n"
   ]
  },
  {
   "cell_type": "code",
   "execution_count": 4,
   "metadata": {},
   "outputs": [
    {
     "name": "stdout",
     "output_type": "stream",
     "text": [
      "\n",
      "Test Data Info:\n",
      "<class 'pandas.core.frame.DataFrame'>\n",
      "RangeIndex: 418 entries, 0 to 417\n",
      "Data columns (total 11 columns):\n",
      " #   Column       Non-Null Count  Dtype  \n",
      "---  ------       --------------  -----  \n",
      " 0   PassengerId  418 non-null    int64  \n",
      " 1   Pclass       418 non-null    int64  \n",
      " 2   Name         418 non-null    object \n",
      " 3   Sex          418 non-null    object \n",
      " 4   Age          332 non-null    float64\n",
      " 5   SibSp        418 non-null    int64  \n",
      " 6   Parch        418 non-null    int64  \n",
      " 7   Ticket       418 non-null    object \n",
      " 8   Fare         417 non-null    float64\n",
      " 9   Cabin        91 non-null     object \n",
      " 10  Embarked     418 non-null    object \n",
      "dtypes: float64(2), int64(4), object(5)\n",
      "memory usage: 36.0+ KB\n",
      "None\n"
     ]
    }
   ],
   "source": [
    "print(\"\\nTest Data Info:\")\n",
    "print(test.info())"
   ]
  },
  {
   "cell_type": "code",
   "execution_count": 5,
   "metadata": {},
   "outputs": [
    {
     "name": "stdout",
     "output_type": "stream",
     "text": [
      "\n",
      "Missing Values in Training Data:\n",
      "PassengerId      0\n",
      "Survived         0\n",
      "Pclass           0\n",
      "Name             0\n",
      "Sex              0\n",
      "Age            177\n",
      "SibSp            0\n",
      "Parch            0\n",
      "Ticket           0\n",
      "Fare             0\n",
      "Cabin          687\n",
      "Embarked         2\n",
      "dtype: int64\n",
      "\n",
      "Missing Values in Test Data:\n",
      "PassengerId      0\n",
      "Pclass           0\n",
      "Name             0\n",
      "Sex              0\n",
      "Age             86\n",
      "SibSp            0\n",
      "Parch            0\n",
      "Ticket           0\n",
      "Fare             1\n",
      "Cabin          327\n",
      "Embarked         0\n",
      "dtype: int64\n"
     ]
    }
   ],
   "source": [
    "# Check for missing values\n",
    "print(\"\\nMissing Values in Training Data:\")\n",
    "print(train.isnull().sum())\n",
    "\n",
    "print(\"\\nMissing Values in Test Data:\")\n",
    "print(test.isnull().sum())"
   ]
  },
  {
   "cell_type": "markdown",
   "metadata": {},
   "source": [
    "### Data Visualization"
   ]
  },
  {
   "cell_type": "code",
   "execution_count": 6,
   "metadata": {},
   "outputs": [],
   "source": [
    "import seaborn as sns\n",
    "import matplotlib.pyplot as plt\n",
    "\n",
    "# Set global plot style\n",
    "sns.set_style('whitegrid')\n",
    "plt.rcParams['figure.figsize'] = (10, 6)\n"
   ]
  },
  {
   "cell_type": "markdown",
   "metadata": {},
   "source": [
    "#### Survival Distribution"
   ]
  },
  {
   "cell_type": "code",
   "execution_count": 7,
   "metadata": {},
   "outputs": [
    {
     "data": {
      "image/png": "[encoded data removed]",
      "text/plain": [
       "<Figure size 1000x600 with 1 Axes>"
      ]
     },
     "metadata": {},
     "output_type": "display_data"
    }
   ],
   "source": [
    "sns.countplot(data=train, x='Survived', palette='pastel', hue='Survived', dodge=False)\n",
    "plt.title(\"Survival Distribution\")\n",
    "plt.xlabel(\"Survived (0 = No, 1 = Yes)\")\n",
    "plt.ylabel(\"Count\")\n",
    "plt.legend(labels=[\"Did not Survive\", \"Survived\"], title=\"Survival Status\")\n",
    "plt.show()\n"
   ]
  },
  {
   "cell_type": "markdown",
   "metadata": {},
   "source": [
    "#### Survival by Gender"
   ]
  },
  {
   "cell_type": "code",
   "execution_count": 8,
   "metadata": {},
   "outputs": [
    {
     "data": {
      "image/png": "[encoded data removed]",
      "text/plain": [
       "<Figure size 1000x600 with 1 Axes>"
      ]
     },
     "metadata": {},
     "output_type": "display_data"
    }
   ],
   "source": [
    "sns.barplot(data=train, x='Sex', y='Survived', hue='Sex', palette='coolwarm')\n",
    "plt.title(\"Survival Rate by Gender\")\n",
    "plt.xlabel(\"Gender\")\n",
    "plt.ylabel(\"Survival Rate\")\n",
    "plt.legend(labels=[\"Male\", \"Female\"], title=\"Gender\")\n",
    "plt.show()\n"
   ]
  },
  {
   "cell_type": "markdown",
   "metadata": {},
   "source": [
    "#### Survival Rate by Gender\n",
    "\n",
    "1. Females had a significantly higher survival rate (~75%) compared to males (~20%).\n",
    "2. This strongly aligns with the \"women and children first\" evacuation protocol that was followed during the Titanic disaster."
   ]
  },
  {
   "cell_type": "markdown",
   "metadata": {},
   "source": [
    "### Survival by Passenger Class"
   ]
  },
  {
   "cell_type": "code",
   "execution_count": 9,
   "metadata": {},
   "outputs": [
    {
     "data": {
      "image/png": "[encoded data removed]",
      "text/plain": [
       "<Figure size 1000x600 with 1 Axes>"
      ]
     },
     "metadata": {},
     "output_type": "display_data"
    }
   ],
   "source": [
    "sns.barplot(data=train, x='Pclass', y='Survived', hue='Pclass', dodge=False, palette='viridis')\n",
    "plt.title(\"Survival Rate by Passenger Class\")\n",
    "plt.xlabel(\"Passenger Class\")\n",
    "plt.ylabel(\"Survival Rate\")\n",
    "plt.legend([], [], frameon=False)  # Optionally disable the legend since hue is redundant\n",
    "plt.show()\n"
   ]
  },
  {
   "cell_type": "markdown",
   "metadata": {},
   "source": [
    "#### Survival Rate by Passenger Class\n",
    "\n",
    "1. The survival rate decreases as passenger class increases.\n",
    "2. First Class passengers had the highest survival rate (~60%).\n",
    "3. Second Class passengers had a moderate survival rate (~40%).\n",
    "4. Third Class passengers had the lowest survival rate (~20%).\n",
    "\n",
    "This indicates a strong correlation between socio-economic status (represented by passenger class) and survival, suggesting a preference for higher-class passengers during rescue efforts."
   ]
  },
  {
   "cell_type": "markdown",
   "metadata": {},
   "source": [
    "### Age Distribution"
   ]
  },
  {
   "cell_type": "code",
   "execution_count": 10,
   "metadata": {},
   "outputs": [
    {
     "data": {
      "image/png": "[encoded data removed]",
      "text/plain": [
       "<Figure size 1000x600 with 1 Axes>"
      ]
     },
     "metadata": {},
     "output_type": "display_data"
    }
   ],
   "source": [
    "sns.histplot(data=train, x='Age', hue='Survived', bins=30, kde=True, palette='husl')\n",
    "plt.title(\"Age Distribution by Survival\")\n",
    "plt.xlabel(\"Age\")\n",
    "plt.ylabel(\"Frequency\")\n",
    "plt.legend(labels=[\"Did not Survive\", \"Survived\"], title=\"Survival Status\")\n",
    "plt.show()\n"
   ]
  },
  {
   "cell_type": "markdown",
   "metadata": {},
   "source": [
    "#### Age Distribution by Survival\n",
    "\n",
    "1. The plot shows the age distribution of passengers who survived and those who did not.\n",
    "2. Younger passengers, especially children, had a higher survival rate. This may indicate that priority was given to younger individuals during the evacuation.\n",
    "3. Passengers aged between 20-40 formed the majority of the passengers, but their survival rate was lower than that of children.\n",
    "4. Elderly passengers had a significantly lower survival rate."
   ]
  },
  {
   "cell_type": "markdown",
   "metadata": {},
   "source": [
    "### Embarkation Port"
   ]
  },
  {
   "cell_type": "code",
   "execution_count": 11,
   "metadata": {},
   "outputs": [
    {
     "data": {
      "image/png": "[encoded data removed]",
      "text/plain": [
       "<Figure size 1000x600 with 1 Axes>"
      ]
     },
     "metadata": {},
     "output_type": "display_data"
    }
   ],
   "source": [
    "sns.countplot(data=train, x='Embarked', hue='Survived', palette='coolwarm')\n",
    "plt.title(\"Survival by Embarkation Port\")\n",
    "plt.xlabel(\"Embarkation Port\")\n",
    "plt.ylabel(\"Count\")\n",
    "plt.legend(labels=[\"Did not Survive\", \"Survived\"], title=\"Survival Status\")\n",
    "plt.show()\n"
   ]
  },
  {
   "cell_type": "markdown",
   "metadata": {},
   "source": [
    "#### Survival by Embarkation Port\n",
    "\n",
    "1. The majority of passengers embarked from Southampton (S), followed by Cherbourg (C), and then Queenstown (Q).\n",
    "2. Passengers from Cherbourg (C) had the highest survival rate, followed by Southampton (S) and Queenstown (Q).\n",
    "3. This trend could reflect differences in socio-economic profiles of passengers boarding from different ports."
   ]
  },
  {
   "cell_type": "markdown",
   "metadata": {},
   "source": [
    "### Feature Engineering"
   ]
  },
  {
   "cell_type": "code",
   "execution_count": 12,
   "metadata": {},
   "outputs": [],
   "source": [
    "# Import necessary libraries\n",
    "import pandas as pd\n",
    "import numpy as np\n",
    "from sklearn.model_selection import train_test_split, cross_val_score, GridSearchCV\n",
    "from sklearn.preprocessing import StandardScaler, LabelEncoder\n",
    "from sklearn.ensemble import RandomForestClassifier\n",
    "from xgboost import XGBClassifier\n",
    "from sklearn.linear_model import LogisticRegression\n",
    "from sklearn.metrics import accuracy_score\n",
    "from imblearn.over_sampling import SMOTE\n",
    "import matplotlib.pyplot as plt\n",
    "import seaborn as sns\n",
    "\n",
    "# Set plot style for visuals\n",
    "sns.set_style('whitegrid')\n",
    "plt.rcParams['figure.figsize'] = (10, 6)\n"
   ]
  },
  {
   "cell_type": "code",
   "execution_count": 13,
   "metadata": {},
   "outputs": [],
   "source": [
    "# Load datasets\n",
    "train = pd.read_csv('dataset/train.csv')\n",
    "test = pd.read_csv('dataset/test.csv')\n",
    "\n",
    "\n"
   ]
  },
  {
   "cell_type": "code",
   "execution_count": 14,
   "metadata": {},
   "outputs": [],
   "source": [
    "# Combine datasets for consistent preprocessing\n",
    "train['is_train'] = 1\n",
    "test['is_train'] = 0\n",
    "data = pd.concat([train, test], sort=False)\n",
    "\n",
    "# Fill missing values\n",
    "data['Age'] = data['Age'].fillna(data['Age'].median())\n",
    "data['Embarked'] = data['Embarked'].fillna(data['Embarked'].mode()[0])\n",
    "data['Fare'] = data['Fare'].fillna(data['Fare'].median())\n",
    "\n",
    "# Feature: Family Size\n",
    "data['FamilySize'] = data['SibSp'] + data['Parch']\n",
    "\n",
    "# Feature: Is Alone\n",
    "data['IsAlone'] = (data['FamilySize'] == 0).astype(int)\n",
    "\n",
    "# Feature: Title (Extract from Name)\n",
    "data['Title'] = data['Name'].str.extract(' ([A-Za-z]+)\\.', expand=False)\n",
    "data['Title'] = data['Title'].replace(['Lady', 'Countess', 'Capt', 'Col', 'Don', 'Dr', 'Major', \n",
    "                                        'Rev', 'Sir', 'Jonkheer', 'Dona'], 'Rare')\n",
    "data['Title'] = data['Title'].replace({'Mlle': 'Miss', 'Ms': 'Miss', 'Mme': 'Mrs'})\n",
    "\n",
    "# Feature: Fare per person\n",
    "data['Fare_Per_Person'] = data['Fare'] / (data['FamilySize'] + 1)\n",
    "\n",
    "# Drop irrelevant columns\n",
    "data.drop(['PassengerId', 'Name', 'Ticket', 'Cabin'], axis=1, inplace=True)\n",
    "\n",
    "# Encode categorical variables\n",
    "data['Sex'] = LabelEncoder().fit_transform(data['Sex'])\n",
    "data = pd.get_dummies(data, columns=['Embarked', 'Title'], drop_first=True)\n"
   ]
  },
  {
   "cell_type": "markdown",
   "metadata": {},
   "source": [
    "Separate Train and Test Data"
   ]
  },
  {
   "cell_type": "code",
   "execution_count": 15,
   "metadata": {},
   "outputs": [],
   "source": [
    "# Separate train and test datasets\n",
    "train = data[data['is_train'] == 1].drop('is_train', axis=1)\n",
    "test = data[data['is_train'] == 0].drop(['is_train', 'Survived'], axis=1)\n",
    "\n",
    "# Define features and target for train data\n",
    "X = train.drop('Survived', axis=1)\n",
    "y = train['Survived']\n",
    "\n",
    "# Normalize continuous variables\n",
    "scaler = StandardScaler()\n",
    "X[['Age', 'Fare', 'Fare_Per_Person', 'FamilySize']] = scaler.fit_transform(X[['Age', 'Fare', 'Fare_Per_Person', 'FamilySize']])\n",
    "test[['Age', 'Fare', 'Fare_Per_Person', 'FamilySize']] = scaler.transform(test[['Age', 'Fare', 'Fare_Per_Person', 'FamilySize']])\n"
   ]
  },
  {
   "cell_type": "markdown",
   "metadata": {},
   "source": [
    "Handle Imbalanced Data"
   ]
  },
  {
   "cell_type": "code",
   "execution_count": 16,
   "metadata": {},
   "outputs": [
    {
     "name": "stdout",
     "output_type": "stream",
     "text": [
      "\n",
      "Class Distribution After SMOTE:\n",
      " Survived\n",
      "0.0    549\n",
      "1.0    549\n",
      "Name: count, dtype: int64\n"
     ]
    }
   ],
   "source": [
    "# Use SMOTE to balance the dataset\n",
    "smote = SMOTE(random_state=42)\n",
    "X_balanced, y_balanced = smote.fit_resample(X, y)\n",
    "\n",
    "# Check the balance of target labels\n",
    "print(\"\\nClass Distribution After SMOTE:\\n\", pd.Series(y_balanced).value_counts())\n"
   ]
  },
  {
   "cell_type": "markdown",
   "metadata": {},
   "source": [
    "#### Baseline (Logistic Regression)"
   ]
  },
  {
   "cell_type": "code",
   "execution_count": 17,
   "metadata": {},
   "outputs": [
    {
     "name": "stdout",
     "output_type": "stream",
     "text": [
      "Logistic Regression: submission_logistic.csv created\n"
     ]
    }
   ],
   "source": [
    "# Logistic Regression\n",
    "log_model = LogisticRegression(random_state=42)\n",
    "log_model.fit(X_balanced, y_balanced)\n",
    "log_preds = log_model.predict(test)\n",
    "\n",
    "# Save submission\n",
    "submission_log = pd.read_csv('dataset/gender_submission.csv')\n",
    "submission_log['Survived'] = log_preds\n",
    "submission_log.to_csv('submission_logistic.csv', index=False)\n",
    "print(\"Logistic Regression: submission_logistic.csv created\")\n"
   ]
  },
  {
   "cell_type": "markdown",
   "metadata": {},
   "source": [
    "### Random Forest"
   ]
  },
  {
   "cell_type": "code",
   "execution_count": 18,
   "metadata": {},
   "outputs": [
    {
     "name": "stdout",
     "output_type": "stream",
     "text": [
      "Random Forest: submission_random_forest.csv created\n"
     ]
    }
   ],
   "source": [
    "# Random Forest\n",
    "rf_model = RandomForestClassifier(n_estimators=100, random_state=42)\n",
    "rf_model.fit(X_balanced, y_balanced)\n",
    "rf_preds = rf_model.predict(test)\n",
    "\n",
    "# Save submission\n",
    "submission_rf = pd.read_csv('dataset/gender_submission.csv')\n",
    "submission_rf['Survived'] = rf_preds\n",
    "submission_rf.to_csv('submission_random_forest.csv', index=False)\n",
    "print(\"Random Forest: submission_random_forest.csv created\")\n"
   ]
  },
  {
   "cell_type": "markdown",
   "metadata": {},
   "source": [
    "### XGBoost"
   ]
  },
  {
   "cell_type": "code",
   "execution_count": 19,
   "metadata": {},
   "outputs": [
    {
     "name": "stdout",
     "output_type": "stream",
     "text": [
      "XGBoost: submission_xgboost.csv created\n"
     ]
    }
   ],
   "source": [
    "# XGBoost\n",
    "xgb_model = XGBClassifier(eval_metric='logloss', random_state=42)  # Removed `use_label_encoder`\n",
    "xgb_model.fit(X_balanced, y_balanced)\n",
    "\n",
    "# Predict on test set\n",
    "xgb_preds = xgb_model.predict(test)\n",
    "\n",
    "# Save submission\n",
    "submission_xgb = pd.read_csv('dataset/gender_submission.csv')  # Updated file path for gender_submission.csv\n",
    "submission_xgb['Survived'] = xgb_preds\n",
    "submission_xgb.to_csv('submission_xgboost.csv', index=False)\n",
    "print(\"XGBoost: submission_xgboost.csv created\")\n"
   ]
  },
  {
   "cell_type": "markdown",
   "metadata": {},
   "source": [
    "### Random Forest HP Tuning"
   ]
  },
  {
   "cell_type": "code",
   "execution_count": 20,
   "metadata": {},
   "outputs": [
    {
     "name": "stdout",
     "output_type": "stream",
     "text": [
      "Best Random Forest Parameters: {'max_depth': 10, 'min_samples_split': 2, 'n_estimators': 200}\n",
      "Tuned Random Forest: submission_rf_tuned.csv created\n"
     ]
    }
   ],
   "source": [
    "# Define parameter grid\n",
    "param_grid = {\n",
    "    'n_estimators': [100, 200],\n",
    "    'max_depth': [5, 10, 20],\n",
    "    'min_samples_split': [2, 5, 10]\n",
    "}\n",
    "\n",
    "# Grid Search\n",
    "grid = GridSearchCV(RandomForestClassifier(random_state=42), param_grid, cv=5, scoring='accuracy')\n",
    "grid.fit(X_balanced, y_balanced)\n",
    "\n",
    "# Best model\n",
    "best_rf_model = grid.best_estimator_\n",
    "print(\"Best Random Forest Parameters:\", grid.best_params_)\n",
    "\n",
    "# Predict with the tuned model\n",
    "best_rf_preds = best_rf_model.predict(test)\n",
    "\n",
    "# Save submission\n",
    "submission_rf_tuned = pd.read_csv('dataset/gender_submission.csv')\n",
    "submission_rf_tuned['Survived'] = best_rf_preds\n",
    "submission_rf_tuned.to_csv('submission_rf_tuned.csv', index=False)\n",
    "print(\"Tuned Random Forest: submission_rf_tuned.csv created\")\n"
   ]
  },
  {
   "cell_type": "markdown",
   "metadata": {},
   "source": [
    "### Evaluation\n"
   ]
  },
  {
   "cell_type": "markdown",
   "metadata": {},
   "source": [
    "Train Test Split"
   ]
  },
  {
   "cell_type": "code",
   "execution_count": 21,
   "metadata": {},
   "outputs": [],
   "source": [
    "from sklearn.metrics import accuracy_score, precision_score, recall_score, f1_score, roc_auc_score\n",
    "\n",
    "# Split the training data into train and validation sets\n",
    "X_train, X_val, y_train, y_val = train_test_split(X_balanced, y_balanced, test_size=0.2, random_state=42)\n"
   ]
  },
  {
   "cell_type": "markdown",
   "metadata": {},
   "source": [
    "#### Evaluation Function"
   ]
  },
  {
   "cell_type": "code",
   "execution_count": 22,
   "metadata": {},
   "outputs": [],
   "source": [
    "def evaluate_model(model, X_val, y_val):\n",
    "    \"\"\"Evaluate a model using multiple metrics.\"\"\"\n",
    "    # Predict on validation set\n",
    "    val_preds = model.predict(X_val)\n",
    "    val_proba = model.predict_proba(X_val)[:, 1] if hasattr(model, \"predict_proba\") else None\n",
    "    \n",
    "    # Calculate metrics\n",
    "    accuracy = accuracy_score(y_val, val_preds)\n",
    "    precision = precision_score(y_val, val_preds)\n",
    "    recall = recall_score(y_val, val_preds)\n",
    "    f1 = f1_score(y_val, val_preds)\n",
    "    roc_auc = roc_auc_score(y_val, val_proba) if val_proba is not None else \"N/A\"\n",
    "    \n",
    "    # Print metrics\n",
    "    print(f\"Accuracy: {accuracy:.4f}\")\n",
    "    print(f\"Precision: {precision:.4f}\")\n",
    "    print(f\"Recall: {recall:.4f}\")\n",
    "    print(f\"F1 Score: {f1:.4f}\")\n",
    "    print(f\"ROC-AUC: {roc_auc if roc_auc != 'N/A' else 'N/A'}\")\n",
    "    \n",
    "    return {\n",
    "        \"accuracy\": accuracy,\n",
    "        \"precision\": precision,\n",
    "        \"recall\": recall,\n",
    "        \"f1\": f1,\n",
    "        \"roc_auc\": roc_auc,\n",
    "    }\n"
   ]
  },
  {
   "cell_type": "markdown",
   "metadata": {},
   "source": [
    "#### Let's Evaluate"
   ]
  },
  {
   "cell_type": "code",
   "execution_count": 23,
   "metadata": {},
   "outputs": [
    {
     "name": "stdout",
     "output_type": "stream",
     "text": [
      "Logistic Regression Metrics:\n",
      "Accuracy: 0.8182\n",
      "Precision: 0.8130\n",
      "Recall: 0.8547\n",
      "F1 Score: 0.8333\n",
      "ROC-AUC: 0.9107957845821923\n"
     ]
    }
   ],
   "source": [
    "# Logistic Regression\n",
    "log_model = LogisticRegression(random_state=42)\n",
    "log_model.fit(X_train, y_train)\n",
    "print(\"Logistic Regression Metrics:\")\n",
    "log_metrics = evaluate_model(log_model, X_val, y_val)\n"
   ]
  },
  {
   "cell_type": "code",
   "execution_count": 24,
   "metadata": {},
   "outputs": [
    {
     "name": "stdout",
     "output_type": "stream",
     "text": [
      "\n",
      "Random Forest Metrics:\n"
     ]
    },
    {
     "name": "stdout",
     "output_type": "stream",
     "text": [
      "Accuracy: 0.8364\n",
      "Precision: 0.8584\n",
      "Recall: 0.8291\n",
      "F1 Score: 0.8435\n",
      "ROC-AUC: 0.8990540204132437\n"
     ]
    }
   ],
   "source": [
    "# Random Forest\n",
    "rf_model = RandomForestClassifier(n_estimators=100, random_state=42)\n",
    "rf_model.fit(X_train, y_train)\n",
    "print(\"\\nRandom Forest Metrics:\")\n",
    "rf_metrics = evaluate_model(rf_model, X_val, y_val)\n"
   ]
  },
  {
   "cell_type": "code",
   "execution_count": 25,
   "metadata": {},
   "outputs": [
    {
     "name": "stdout",
     "output_type": "stream",
     "text": [
      "\n",
      "XGBoost Metrics:\n",
      "Accuracy: 0.8773\n",
      "Precision: 0.8879\n",
      "Recall: 0.8803\n",
      "F1 Score: 0.8841\n",
      "ROC-AUC: 0.9339888805908223\n"
     ]
    }
   ],
   "source": [
    "# XGBoost\n",
    "xgb_model = XGBClassifier(eval_metric='logloss', random_state=42)\n",
    "xgb_model.fit(X_train, y_train)\n",
    "print(\"\\nXGBoost Metrics:\")\n",
    "xgb_metrics = evaluate_model(xgb_model, X_val, y_val)\n"
   ]
  },
  {
   "cell_type": "code",
   "execution_count": 26,
   "metadata": {},
   "outputs": [
    {
     "name": "stdout",
     "output_type": "stream",
     "text": [
      "\n",
      "Tuned Random Forest Metrics:\n",
      "Accuracy: 0.8636\n",
      "Precision: 0.8991\n",
      "Recall: 0.8376\n",
      "F1 Score: 0.8673\n",
      "ROC-AUC: 0.9222471164218737\n"
     ]
    }
   ],
   "source": [
    "# Tuned Random Forest (from GridSearchCV)\n",
    "best_rf_model = grid.best_estimator_\n",
    "best_rf_model.fit(X_train, y_train)\n",
    "print(\"\\nTuned Random Forest Metrics:\")\n",
    "tuned_rf_metrics = evaluate_model(best_rf_model, X_val, y_val)\n"
   ]
  },
  {
   "cell_type": "markdown",
   "metadata": {},
   "source": [
    "### Compare All"
   ]
  },
  {
   "cell_type": "code",
   "execution_count": 27,
   "metadata": {},
   "outputs": [
    {
     "name": "stdout",
     "output_type": "stream",
     "text": [
      "                 Model  Accuracy  Precision    Recall  F1 Score   ROC-AUC\n",
      "0  Logistic Regression  0.818182   0.813008  0.854701  0.833333  0.910796\n",
      "1        Random Forest  0.836364   0.858407  0.829060  0.843478  0.899054\n",
      "2              XGBoost  0.877273   0.887931  0.880342  0.884120  0.933989\n",
      "3  Tuned Random Forest  0.863636   0.899083  0.837607  0.867257  0.922247\n"
     ]
    }
   ],
   "source": [
    "# Summarize metrics\n",
    "metrics_summary = pd.DataFrame({\n",
    "    \"Model\": [\"Logistic Regression\", \"Random Forest\", \"XGBoost\", \"Tuned Random Forest\"],\n",
    "    \"Accuracy\": [log_metrics[\"accuracy\"], rf_metrics[\"accuracy\"], xgb_metrics[\"accuracy\"], tuned_rf_metrics[\"accuracy\"]],\n",
    "    \"Precision\": [log_metrics[\"precision\"], rf_metrics[\"precision\"], xgb_metrics[\"precision\"], tuned_rf_metrics[\"precision\"]],\n",
    "    \"Recall\": [log_metrics[\"recall\"], rf_metrics[\"recall\"], xgb_metrics[\"recall\"], tuned_rf_metrics[\"recall\"]],\n",
    "    \"F1 Score\": [log_metrics[\"f1\"], rf_metrics[\"f1\"], xgb_metrics[\"f1\"], tuned_rf_metrics[\"f1\"]],\n",
    "    \"ROC-AUC\": [log_metrics[\"roc_auc\"], rf_metrics[\"roc_auc\"], xgb_metrics[\"roc_auc\"], tuned_rf_metrics[\"roc_auc\"]],\n",
    "})\n",
    "\n",
    "# Display summary\n",
    "print(metrics_summary)\n"
   ]
  },
  {
   "cell_type": "code",
   "execution_count": 28,
   "metadata": {},
   "outputs": [
    {
     "data": {
      "image/png": "[encoded data removed]",
      "text/plain": [
       "<Figure size 1200x600 with 1 Axes>"
      ]
     },
     "metadata": {},
     "output_type": "display_data"
    }
   ],
   "source": [
    "import matplotlib.pyplot as plt\n",
    "\n",
    "# Plot Accuracy, Precision, Recall, F1 Score\n",
    "metrics_summary.set_index(\"Model\").drop(\"ROC-AUC\", axis=1).plot(kind=\"bar\", figsize=(12, 6))\n",
    "plt.title(\"Model Comparison (Accuracy, Precision, Recall, F1 Score)\")\n",
    "plt.ylabel(\"Score\")\n",
    "plt.xticks(rotation=45)\n",
    "plt.legend(loc=\"lower right\")\n",
    "plt.show()\n"
   ]
  },
  {
   "cell_type": "markdown",
   "metadata": {},
   "source": [
    "### Let's Optimize even Further"
   ]
  },
  {
   "cell_type": "markdown",
   "metadata": {},
   "source": [
    "##### Hyperparameter Tuning"
   ]
  },
  {
   "cell_type": "markdown",
   "metadata": {},
   "source": [
    "Logistic Regression"
   ]
  },
  {
   "cell_type": "code",
   "execution_count": 29,
   "metadata": {},
   "outputs": [
    {
     "name": "stdout",
     "output_type": "stream",
     "text": [
      "Best Logistic Regression Parameters: {'C': 10, 'solver': 'lbfgs'}\n",
      "Tuned Logistic Regression Validation Accuracy: 0.8182\n"
     ]
    }
   ],
   "source": [
    "from sklearn.model_selection import GridSearchCV\n",
    "\n",
    "# Define hyperparameter grid\n",
    "param_grid = {\n",
    "    'C': [0.01, 0.1, 1, 10, 100],  # Regularization strength\n",
    "    'solver': ['lbfgs', 'liblinear']  # Optimization algorithms\n",
    "}\n",
    "\n",
    "# GridSearchCV\n",
    "log_grid = GridSearchCV(LogisticRegression(random_state=42), param_grid, cv=5, scoring='accuracy')\n",
    "log_grid.fit(X_train, y_train)\n",
    "\n",
    "# Best parameters and model\n",
    "best_log_model = log_grid.best_estimator_\n",
    "print(\"Best Logistic Regression Parameters:\", log_grid.best_params_)\n",
    "\n",
    "# Validation accuracy\n",
    "log_val_preds = best_log_model.predict(X_val)\n",
    "log_accuracy = accuracy_score(y_val, log_val_preds)\n",
    "print(f\"Tuned Logistic Regression Validation Accuracy: {log_accuracy:.4f}\")\n"
   ]
  },
  {
   "cell_type": "markdown",
   "metadata": {},
   "source": [
    "Random Forest"
   ]
  },
  {
   "cell_type": "code",
   "execution_count": 30,
   "metadata": {},
   "outputs": [
    {
     "name": "stdout",
     "output_type": "stream",
     "text": [
      "Best Random Forest Parameters: {'bootstrap': False, 'max_depth': 10, 'min_samples_leaf': 2, 'min_samples_split': 5, 'n_estimators': 200}\n",
      "Tuned Random Forest Validation Accuracy: 0.8682\n"
     ]
    }
   ],
   "source": [
    "# Define hyperparameter grid\n",
    "param_grid = {\n",
    "    'n_estimators': [100, 200, 300],\n",
    "    'max_depth': [5, 10, 20, None],\n",
    "    'min_samples_split': [2, 5, 10],\n",
    "    'min_samples_leaf': [1, 2, 4],\n",
    "    'bootstrap': [True, False]\n",
    "}\n",
    "\n",
    "# GridSearchCV\n",
    "rf_grid = GridSearchCV(RandomForestClassifier(random_state=42), param_grid, cv=5, scoring='accuracy', n_jobs=-1)\n",
    "rf_grid.fit(X_train, y_train)\n",
    "\n",
    "# Best parameters and model\n",
    "best_rf_model = rf_grid.best_estimator_\n",
    "print(\"Best Random Forest Parameters:\", rf_grid.best_params_)\n",
    "\n",
    "# Validation accuracy\n",
    "rf_val_preds = best_rf_model.predict(X_val)\n",
    "rf_accuracy = accuracy_score(y_val, rf_val_preds)\n",
    "print(f\"Tuned Random Forest Validation Accuracy: {rf_accuracy:.4f}\")\n"
   ]
  },
  {
   "cell_type": "markdown",
   "metadata": {},
   "source": [
    "XGBoost"
   ]
  },
  {
   "cell_type": "code",
   "execution_count": 31,
   "metadata": {},
   "outputs": [
    {
     "name": "stdout",
     "output_type": "stream",
     "text": [
      "Best XGBoost Parameters: {'colsample_bytree': 1.0, 'learning_rate': 0.01, 'max_depth': 7, 'n_estimators': 200, 'subsample': 0.8}\n",
      "Tuned XGBoost Validation Accuracy: 0.8727\n"
     ]
    }
   ],
   "source": [
    "# Define hyperparameter grid\n",
    "param_grid = {\n",
    "    'n_estimators': [100, 200, 300],\n",
    "    'max_depth': [3, 5, 7],\n",
    "    'learning_rate': [0.01, 0.1, 0.2],\n",
    "    'subsample': [0.8, 1.0],\n",
    "    'colsample_bytree': [0.8, 1.0]\n",
    "}\n",
    "\n",
    "# GridSearchCV\n",
    "xgb_grid = GridSearchCV(XGBClassifier(eval_metric='logloss', random_state=42), param_grid, cv=5, scoring='accuracy', n_jobs=-1)\n",
    "xgb_grid.fit(X_train, y_train)\n",
    "\n",
    "# Best parameters and model\n",
    "best_xgb_model = xgb_grid.best_estimator_\n",
    "print(\"Best XGBoost Parameters:\", xgb_grid.best_params_)\n",
    "\n",
    "# Validation accuracy\n",
    "xgb_val_preds = best_xgb_model.predict(X_val)\n",
    "xgb_accuracy = accuracy_score(y_val, xgb_val_preds)\n",
    "print(f\"Tuned XGBoost Validation Accuracy: {xgb_accuracy:.4f}\")\n"
   ]
  },
  {
   "cell_type": "markdown",
   "metadata": {},
   "source": [
    "Now, Let's see the scores"
   ]
  },
  {
   "cell_type": "code",
   "execution_count": 32,
   "metadata": {},
   "outputs": [],
   "source": [
    "# Store scores in a dictionary\n",
    "model_scores = {\n",
    "    \"Logistic Regression\": log_accuracy,\n",
    "    \"Random Forest\": rf_accuracy,\n",
    "    \"XGBoost\": xgb_accuracy,\n",
    "}\n",
    "\n",
    "# Convert the dictionary to a DataFrame for tabular representation\n",
    "import pandas as pd\n",
    "\n",
    "scores_df = pd.DataFrame(list(model_scores.items()), columns=[\"Model\", \"Validation Accuracy\"])\n"
   ]
  },
  {
   "cell_type": "code",
   "execution_count": 33,
   "metadata": {},
   "outputs": [
    {
     "name": "stdout",
     "output_type": "stream",
     "text": [
      "                 Model  Validation Accuracy\n",
      "0  Logistic Regression             0.818182\n",
      "1        Random Forest             0.868182\n",
      "2              XGBoost             0.872727\n"
     ]
    },
    {
     "data": {
      "text/html": [
       "<div>\n",
       "<style scoped>\n",
       "    .dataframe tbody tr th:only-of-type {\n",
       "        vertical-align: middle;\n",
       "    }\n",
       "\n",
       "    .dataframe tbody tr th {\n",
       "        vertical-align: top;\n",
       "    }\n",
       "\n",
       "    .dataframe thead th {\n",
       "        text-align: right;\n",
       "    }\n",
       "</style>\n",
       "<table border=\"1\" class=\"dataframe\">\n",
       "  <thead>\n",
       "    <tr style=\"text-align: right;\">\n",
       "      <th></th>\n",
       "      <th>Model</th>\n",
       "      <th>Validation Accuracy</th>\n",
       "    </tr>\n",
       "  </thead>\n",
       "  <tbody>\n",
       "    <tr>\n",
       "      <th>0</th>\n",
       "      <td>Logistic Regression</td>\n",
       "      <td>0.818182</td>\n",
       "    </tr>\n",
       "    <tr>\n",
       "      <th>1</th>\n",
       "      <td>Random Forest</td>\n",
       "      <td>0.868182</td>\n",
       "    </tr>\n",
       "    <tr>\n",
       "      <th>2</th>\n",
       "      <td>XGBoost</td>\n",
       "      <td>0.872727</td>\n",
       "    </tr>\n",
       "  </tbody>\n",
       "</table>\n",
       "</div>"
      ],
      "text/plain": [
       "                 Model  Validation Accuracy\n",
       "0  Logistic Regression             0.818182\n",
       "1        Random Forest             0.868182\n",
       "2              XGBoost             0.872727"
      ]
     },
     "metadata": {},
     "output_type": "display_data"
    }
   ],
   "source": [
    "# Display the table using pandas\n",
    "print(scores_df)\n",
    "\n",
    "# Optional: Use Jupyter's built-in rich display for better formatting\n",
    "from IPython.display import display\n",
    "display(scores_df)\n"
   ]
  },
  {
   "cell_type": "code",
   "execution_count": 34,
   "metadata": {},
   "outputs": [
    {
     "data": {
      "image/png": "[encoded data removed]",
      "text/plain": [
       "<Figure size 1000x600 with 1 Axes>"
      ]
     },
     "metadata": {},
     "output_type": "display_data"
    }
   ],
   "source": [
    "import matplotlib.pyplot as plt\n",
    "\n",
    "# Plot scores\n",
    "plt.figure(figsize=(10, 6))\n",
    "plt.bar(scores_df[\"Model\"], scores_df[\"Validation Accuracy\"], color=[\"skyblue\", \"green\", \"orange\", \"purple\"])\n",
    "plt.title(\"Model Validation Accuracy Comparison\", fontsize=16)\n",
    "plt.xlabel(\"Model\", fontsize=14)\n",
    "plt.ylabel(\"Validation Accuracy\", fontsize=14)\n",
    "plt.xticks(rotation=45, fontsize=12)\n",
    "plt.ylim(0.5, 1.0)  # Assuming accuracy is between 50% and 100%\n",
    "plt.show()\n"
   ]
  },
  {
   "cell_type": "markdown",
   "metadata": {},
   "source": [
    "### Feature Selection and Engineering"
   ]
  },
  {
   "cell_type": "code",
   "execution_count": 35,
   "metadata": {},
   "outputs": [
    {
     "name": "stdout",
     "output_type": "stream",
     "text": [
      "            Feature  Importance\n",
      "12         Title_Mr    0.166627\n",
      "1               Sex    0.164919\n",
      "5              Fare    0.125178\n",
      "8   Fare_Per_Person    0.120885\n",
      "2               Age    0.119577\n",
      "0            Pclass    0.085963\n",
      "6        FamilySize    0.049885\n",
      "11       Title_Miss    0.043216\n",
      "13        Title_Mrs    0.038736\n",
      "3             SibSp    0.028113\n",
      "4             Parch    0.017521\n",
      "10       Embarked_S    0.011409\n",
      "7           IsAlone    0.010804\n",
      "14       Title_Rare    0.009603\n",
      "9        Embarked_Q    0.007564\n"
     ]
    },
    {
     "data": {
      "image/png": "[encoded data removed]",
      "text/plain": [
       "<Figure size 1000x600 with 1 Axes>"
      ]
     },
     "metadata": {},
     "output_type": "display_data"
    }
   ],
   "source": [
    "# Feature importance for Random Forest\n",
    "importances = best_rf_model.feature_importances_\n",
    "feature_importance_df = pd.DataFrame({'Feature': X.columns, 'Importance': importances}).sort_values(by='Importance', ascending=False)\n",
    "print(feature_importance_df)\n",
    "\n",
    "# Plot feature importance\n",
    "feature_importance_df.plot(kind='bar', x='Feature', y='Importance', title='Feature Importance')\n",
    "plt.show()\n"
   ]
  },
  {
   "cell_type": "markdown",
   "metadata": {},
   "source": [
    "Drop Low Importance"
   ]
  },
  {
   "cell_type": "code",
   "execution_count": 36,
   "metadata": {},
   "outputs": [],
   "source": [
    "# Threshold for feature importance\n",
    "threshold = 0.01\n",
    "\n",
    "# Identify important features\n",
    "important_features = feature_importance_df[feature_importance_df['Importance'] > threshold]['Feature'].tolist()\n",
    "\n",
    "# Reduce feature set\n",
    "X_train_reduced = X[important_features]\n",
    "X_val_reduced = X_val[important_features]\n",
    "test_reduced = test[important_features]\n"
   ]
  },
  {
   "cell_type": "code",
   "execution_count": 37,
   "metadata": {},
   "outputs": [
    {
     "name": "stdout",
     "output_type": "stream",
     "text": [
      "X_train_reduced shape: (891, 13)\n",
      "y_train shape: (878,)\n"
     ]
    }
   ],
   "source": [
    "print(\"X_train_reduced shape:\", X_train_reduced.shape)\n",
    "print(\"y_train shape:\", y_train.shape)\n"
   ]
  },
  {
   "cell_type": "code",
   "execution_count": 38,
   "metadata": {},
   "outputs": [],
   "source": [
    "# Ensure alignment with important features\n",
    "important_features = feature_importance_df[feature_importance_df['Importance'] > threshold]['Feature']\n",
    "X_train_reduced = X[important_features]  # Use X (not X_train_reduced) to avoid dropping rows\n"
   ]
  },
  {
   "cell_type": "code",
   "execution_count": 39,
   "metadata": {},
   "outputs": [],
   "source": [
    "# Reset index for both\n",
    "X_train_reduced = X_train_reduced.reset_index(drop=True)\n",
    "y_train = y_train.reset_index(drop=True)\n"
   ]
  },
  {
   "cell_type": "code",
   "execution_count": 40,
   "metadata": {},
   "outputs": [
    {
     "name": "stdout",
     "output_type": "stream",
     "text": [
      "X_train_reduced shape: (891, 13)\n",
      "y_train shape: (878,)\n"
     ]
    }
   ],
   "source": [
    "print(\"X_train_reduced shape:\", X_train_reduced.shape)\n",
    "print(\"y_train shape:\", y_train.shape)\n"
   ]
  },
  {
   "cell_type": "code",
   "execution_count": 41,
   "metadata": {},
   "outputs": [
    {
     "name": "stdout",
     "output_type": "stream",
     "text": [
      "0\n"
     ]
    }
   ],
   "source": [
    "print(y_train.isnull().sum())\n"
   ]
  },
  {
   "cell_type": "code",
   "execution_count": 42,
   "metadata": {},
   "outputs": [],
   "source": [
    "y_train = y_train.dropna().reset_index(drop=True)\n"
   ]
  },
  {
   "cell_type": "code",
   "execution_count": 43,
   "metadata": {},
   "outputs": [
    {
     "name": "stdout",
     "output_type": "stream",
     "text": [
      "X_train_reduced indices: RangeIndex(start=0, stop=891, step=1)\n",
      "y_train indices: RangeIndex(start=0, stop=878, step=1)\n"
     ]
    }
   ],
   "source": [
    "print(\"X_train_reduced indices:\", X_train_reduced.index)\n",
    "print(\"y_train indices:\", y_train.index)\n"
   ]
  },
  {
   "cell_type": "code",
   "execution_count": 44,
   "metadata": {},
   "outputs": [],
   "source": [
    "# Align indices\n",
    "X_train_reduced = X_train_reduced.loc[y_train.index].reset_index(drop=True)\n",
    "y_train = y_train.reset_index(drop=True)\n"
   ]
  },
  {
   "cell_type": "code",
   "execution_count": 45,
   "metadata": {},
   "outputs": [
    {
     "name": "stdout",
     "output_type": "stream",
     "text": [
      "Original X shape: (891, 15)\n",
      "Original y shape: (891,)\n"
     ]
    }
   ],
   "source": [
    "print(\"Original X shape:\", X.shape)\n",
    "print(\"Original y shape:\", y.shape)\n"
   ]
  },
  {
   "cell_type": "code",
   "execution_count": 46,
   "metadata": {},
   "outputs": [],
   "source": [
    "X, y = X.loc[y.index], y.reset_index(drop=True)\n"
   ]
  },
  {
   "cell_type": "code",
   "execution_count": 47,
   "metadata": {},
   "outputs": [
    {
     "name": "stdout",
     "output_type": "stream",
     "text": [
      "X_train_reduced shape: (878, 13)\n",
      "y_train shape: (878,)\n"
     ]
    }
   ],
   "source": [
    "print(\"X_train_reduced shape:\", X_train_reduced.shape)\n",
    "print(\"y_train shape:\", y_train.shape)\n"
   ]
  },
  {
   "cell_type": "markdown",
   "metadata": {},
   "source": [
    "Retain Model with Reduced feature "
   ]
  },
  {
   "cell_type": "code",
   "execution_count": 48,
   "metadata": {},
   "outputs": [
    {
     "name": "stdout",
     "output_type": "stream",
     "text": [
      "Reduced Logistic Regression Validation Accuracy: 0.6909\n"
     ]
    }
   ],
   "source": [
    "log_model.fit(X_train_reduced, y_train)\n",
    "log_val_preds_reduced = log_model.predict(X_val_reduced)\n",
    "log_accuracy_reduced = accuracy_score(y_val, log_val_preds_reduced)\n",
    "print(f\"Reduced Logistic Regression Validation Accuracy: {log_accuracy_reduced:.4f}\")\n"
   ]
  },
  {
   "cell_type": "code",
   "execution_count": 49,
   "metadata": {},
   "outputs": [
    {
     "name": "stdout",
     "output_type": "stream",
     "text": [
      "Reduced Random Forest Validation Accuracy: 0.5500\n"
     ]
    }
   ],
   "source": [
    "best_rf_model.fit(X_train_reduced, y_train)\n",
    "rf_val_preds_reduced = best_rf_model.predict(X_val_reduced)\n",
    "rf_accuracy_reduced = accuracy_score(y_val, rf_val_preds_reduced)\n",
    "print(f\"Reduced Random Forest Validation Accuracy: {rf_accuracy_reduced:.4f}\")\n"
   ]
  },
  {
   "cell_type": "code",
   "execution_count": 50,
   "metadata": {},
   "outputs": [
    {
     "name": "stdout",
     "output_type": "stream",
     "text": [
      "Reduced XGBoost Validation Accuracy: 0.5727\n"
     ]
    }
   ],
   "source": [
    "best_xgb_model.fit(X_train_reduced, y_train)\n",
    "xgb_val_preds_reduced = best_xgb_model.predict(X_val_reduced)\n",
    "xgb_accuracy_reduced = accuracy_score(y_val, xgb_val_preds_reduced)\n",
    "print(f\"Reduced XGBoost Validation Accuracy: {xgb_accuracy_reduced:.4f}\")\n"
   ]
  },
  {
   "cell_type": "markdown",
   "metadata": {},
   "source": [
    "#### Let's Redo"
   ]
  },
  {
   "cell_type": "code",
   "execution_count": 51,
   "metadata": {},
   "outputs": [],
   "source": [
    "# data analysis and wrangling\n",
    "import numpy as np\n",
    "import pandas as pd\n",
    "from scipy.stats import chi2_contingency\n",
    "from sklearn.impute import SimpleImputer\n",
    "\n",
    "# visualization\n",
    "import seaborn as sns\n",
    "import matplotlib.pyplot as plt\n",
    "%matplotlib inline"
   ]
  },
  {
   "cell_type": "code",
   "execution_count": 52,
   "metadata": {},
   "outputs": [
    {
     "data": {
      "text/html": [
       "<div>\n",
       "<style scoped>\n",
       "    .dataframe tbody tr th:only-of-type {\n",
       "        vertical-align: middle;\n",
       "    }\n",
       "\n",
       "    .dataframe tbody tr th {\n",
       "        vertical-align: top;\n",
       "    }\n",
       "\n",
       "    .dataframe thead th {\n",
       "        text-align: right;\n",
       "    }\n",
       "</style>\n",
       "<table border=\"1\" class=\"dataframe\">\n",
       "  <thead>\n",
       "    <tr style=\"text-align: right;\">\n",
       "      <th></th>\n",
       "      <th>PassengerId</th>\n",
       "      <th>Survived</th>\n",
       "      <th>Pclass</th>\n",
       "      <th>Name</th>\n",
       "      <th>Sex</th>\n",
       "      <th>Age</th>\n",
       "      <th>SibSp</th>\n",
       "      <th>Parch</th>\n",
       "      <th>Ticket</th>\n",
       "      <th>Fare</th>\n",
       "      <th>Cabin</th>\n",
       "      <th>Embarked</th>\n",
       "    </tr>\n",
       "  </thead>\n",
       "  <tbody>\n",
       "    <tr>\n",
       "      <th>0</th>\n",
       "      <td>1</td>\n",
       "      <td>0</td>\n",
       "      <td>3</td>\n",
       "      <td>Braund, Mr. Owen Harris</td>\n",
       "      <td>male</td>\n",
       "      <td>22.0</td>\n",
       "      <td>1</td>\n",
       "      <td>0</td>\n",
       "      <td>A/5 21171</td>\n",
       "      <td>7.2500</td>\n",
       "      <td>NaN</td>\n",
       "      <td>S</td>\n",
       "    </tr>\n",
       "    <tr>\n",
       "      <th>1</th>\n",
       "      <td>2</td>\n",
       "      <td>1</td>\n",
       "      <td>1</td>\n",
       "      <td>Cumings, Mrs. John Bradley (Florence Briggs Th...</td>\n",
       "      <td>female</td>\n",
       "      <td>38.0</td>\n",
       "      <td>1</td>\n",
       "      <td>0</td>\n",
       "      <td>PC 17599</td>\n",
       "      <td>71.2833</td>\n",
       "      <td>C85</td>\n",
       "      <td>C</td>\n",
       "    </tr>\n",
       "    <tr>\n",
       "      <th>2</th>\n",
       "      <td>3</td>\n",
       "      <td>1</td>\n",
       "      <td>3</td>\n",
       "      <td>Heikkinen, Miss. Laina</td>\n",
       "      <td>female</td>\n",
       "      <td>26.0</td>\n",
       "      <td>0</td>\n",
       "      <td>0</td>\n",
       "      <td>STON/O2. 3101282</td>\n",
       "      <td>7.9250</td>\n",
       "      <td>NaN</td>\n",
       "      <td>S</td>\n",
       "    </tr>\n",
       "    <tr>\n",
       "      <th>3</th>\n",
       "      <td>4</td>\n",
       "      <td>1</td>\n",
       "      <td>1</td>\n",
       "      <td>Futrelle, Mrs. Jacques Heath (Lily May Peel)</td>\n",
       "      <td>female</td>\n",
       "      <td>35.0</td>\n",
       "      <td>1</td>\n",
       "      <td>0</td>\n",
       "      <td>113803</td>\n",
       "      <td>53.1000</td>\n",
       "      <td>C123</td>\n",
       "      <td>S</td>\n",
       "    </tr>\n",
       "    <tr>\n",
       "      <th>4</th>\n",
       "      <td>5</td>\n",
       "      <td>0</td>\n",
       "      <td>3</td>\n",
       "      <td>Allen, Mr. William Henry</td>\n",
       "      <td>male</td>\n",
       "      <td>35.0</td>\n",
       "      <td>0</td>\n",
       "      <td>0</td>\n",
       "      <td>373450</td>\n",
       "      <td>8.0500</td>\n",
       "      <td>NaN</td>\n",
       "      <td>S</td>\n",
       "    </tr>\n",
       "  </tbody>\n",
       "</table>\n",
       "</div>"
      ],
      "text/plain": [
       "   PassengerId  Survived  Pclass  \\\n",
       "0            1         0       3   \n",
       "1            2         1       1   \n",
       "2            3         1       3   \n",
       "3            4         1       1   \n",
       "4            5         0       3   \n",
       "\n",
       "                                                Name     Sex   Age  SibSp  \\\n",
       "0                            Braund, Mr. Owen Harris    male  22.0      1   \n",
       "1  Cumings, Mrs. John Bradley (Florence Briggs Th...  female  38.0      1   \n",
       "2                             Heikkinen, Miss. Laina  female  26.0      0   \n",
       "3       Futrelle, Mrs. Jacques Heath (Lily May Peel)  female  35.0      1   \n",
       "4                           Allen, Mr. William Henry    male  35.0      0   \n",
       "\n",
       "   Parch            Ticket     Fare Cabin Embarked  \n",
       "0      0         A/5 21171   7.2500   NaN        S  \n",
       "1      0          PC 17599  71.2833   C85        C  \n",
       "2      0  STON/O2. 3101282   7.9250   NaN        S  \n",
       "3      0            113803  53.1000  C123        S  \n",
       "4      0            373450   8.0500   NaN        S  "
      ]
     },
     "execution_count": 52,
     "metadata": {},
     "output_type": "execute_result"
    }
   ],
   "source": [
    "# Load datasets\n",
    "train = pd.read_csv('dataset/train.csv')\n",
    "test = pd.read_csv('dataset/test.csv')\n",
    "gender_submission = pd.read_csv('dataset/gender_submission.csv')\n",
    "\n",
    "# Display first few rows of training data\n",
    "train.head()\n"
   ]
  },
  {
   "cell_type": "markdown",
   "metadata": {},
   "source": [
    "Let's see how many Duplicate rows do we have"
   ]
  },
  {
   "cell_type": "code",
   "execution_count": 53,
   "metadata": {},
   "outputs": [
    {
     "name": "stdout",
     "output_type": "stream",
     "text": [
      "Number of rows in train dataset: 891\n",
      "Number of columns in train dataset: 12\n",
      "Number of Duplicate Rows in Train Data: 0\n",
      "Number of Duplicate Rows in Test Data: 0\n"
     ]
    }
   ],
   "source": [
    "combine = [train, test] # Combine train and test datasets\n",
    "print('Number of rows in train dataset:', train.shape[0])\n",
    "print('Number of columns in train dataset:', train.shape[1])\n",
    "\n",
    "print(\"Number of Duplicate Rows in Train Data:\", train.duplicated().sum())\n",
    "print(\"Number of Duplicate Rows in Test Data:\", test.duplicated().sum())"
   ]
  },
  {
   "cell_type": "markdown",
   "metadata": {},
   "source": [
    "There are no duplicate rows in any of the data"
   ]
  },
  {
   "cell_type": "markdown",
   "metadata": {},
   "source": [
    "Let's do some data analysis"
   ]
  },
  {
   "cell_type": "code",
   "execution_count": 54,
   "metadata": {},
   "outputs": [
    {
     "name": "stdout",
     "output_type": "stream",
     "text": [
      "Number of unique values in PassengerId column are: 891\n",
      "Number of unique values in Survived column are: 2\n",
      "Number of unique values in Pclass column are: 3\n",
      "Number of unique values in Name column are: 891\n",
      "Number of unique values in Sex column are: 2\n",
      "Number of unique values in Age column are: 88\n",
      "Number of unique values in SibSp column are: 7\n",
      "Number of unique values in Parch column are: 7\n",
      "Number of unique values in Ticket column are: 681\n",
      "Number of unique values in Fare column are: 248\n",
      "Number of unique values in Cabin column are: 147\n",
      "Number of unique values in Embarked column are: 3\n"
     ]
    }
   ],
   "source": [
    "# check out the number of unique values in each column\n",
    "\n",
    "for col in train.columns:\n",
    "    print(f\"Number of unique values in {col} column are: {train[col].nunique()}\")"
   ]
  },
  {
   "cell_type": "markdown",
   "metadata": {},
   "source": [
    "Let's visualize some data"
   ]
  },
  {
   "cell_type": "code",
   "execution_count": 61,
   "metadata": {},
   "outputs": [
    {
     "data": {
      "image/png": "[encoded data removed]",
      "text/plain": [
       "<Figure size 800x600 with 1 Axes>"
      ]
     },
     "metadata": {},
     "output_type": "display_data"
    },
    {
     "data": {
      "image/png": "[encoded data removed]",
      "text/plain": [
       "<Figure size 800x600 with 1 Axes>"
      ]
     },
     "metadata": {},
     "output_type": "display_data"
    },
    {
     "data": {
      "image/png": "[encoded data removed]",
      "text/plain": [
       "<Figure size 800x600 with 1 Axes>"
      ]
     },
     "metadata": {},
     "output_type": "display_data"
    },
    {
     "data": {
      "image/png": "[encoded data removed]",
      "text/plain": [
       "<Figure size 800x600 with 1 Axes>"
      ]
     },
     "metadata": {},
     "output_type": "display_data"
    }
   ],
   "source": [
    "import seaborn as sns\n",
    "# Plot charts between multiple variables\n",
    "import matplotlib.pyplot as plt\n",
    "# Age\n",
    "fig, ax = plt.subplots(figsize=(8, 6))\n",
    "sns.boxplot(x='Survived', y='Age', data=train)\n",
    "ax.set_ylim(0, 100)\n",
    "plt.title(\"Survived vs Age\")\n",
    "plt.xlabel(\"Survived\")\n",
    "plt.ylabel(\"Age\")\n",
    "plt.show()\n",
    "\n",
    "# Sex\n",
    "fig, ax = plt.subplots(figsize=(8, 6))\n",
    "sns.countplot(x='Survived', hue='Sex', data=train)\n",
    "ax.set_ylim(0, 500)\n",
    "plt.title(\"Survived vs Sex\")\n",
    "plt.xlabel(\"Survived\")\n",
    "plt.ylabel(\"Count\")\n",
    "plt.legend(title=\"Sex\", loc=\"upper right\")\n",
    "plt.show()\n",
    "\n",
    "# Pclass\n",
    "fig, ax = plt.subplots(figsize=(8, 6))\n",
    "sns.countplot(x='Survived', hue='Pclass', data=train)\n",
    "ax.set_ylim(0, 400)\n",
    "plt.title(\"Survived vs Pclass\")\n",
    "plt.xlabel(\"Survived\")\n",
    "plt.ylabel(\"Count\")\n",
    "plt.legend(title=\"Pclass\", loc=\"upper right\")\n",
    "plt.show()\n",
    "\n",
    "# Embarked\n",
    "fig, ax = plt.subplots(figsize=(8, 6))\n",
    "sns.countplot(x='Survived', hue='Embarked', data=train)\n",
    "ax.set_ylim(0, 500)\n",
    "plt.title(\"Survived vs Embarked\")\n",
    "plt.xlabel(\"Survived\")\n",
    "plt.ylabel(\"Count\")\n",
    "plt.legend(title=\"Embarked\", loc=\"upper right\")\n",
    "plt.show()"
   ]
  },
  {
   "cell_type": "markdown",
   "metadata": {},
   "source": [
    "A lot of values are unique, so we can drop the Ticket , cabin columns , and let's create a 'FamilySize' column instead"
   ]
  },
  {
   "cell_type": "code",
   "execution_count": 62,
   "metadata": {},
   "outputs": [],
   "source": [
    "# Drop PassengerId, Ticket and Cabin columns\n",
    "train = train.drop(['PassengerId', 'Ticket', 'Cabin'], axis = 1)\n",
    "test = test.drop(['Ticket', 'Cabin'], axis = 1)\n",
    "combine = [train, test]"
   ]
  },
  {
   "cell_type": "markdown",
   "metadata": {},
   "source": [
    "### Feature Engineering"
   ]
  },
  {
   "cell_type": "markdown",
   "metadata": {},
   "source": [
    "We can create one column from SibSp and Parch "
   ]
  },
  {
   "cell_type": "code",
   "execution_count": 63,
   "metadata": {},
   "outputs": [],
   "source": [
    "# Crate FamilySize column from SibSp and Parch\n",
    "for df in combine:\n",
    "    df['FamilySize'] = df['SibSp'] + df['Parch'] + 1"
   ]
  },
  {
   "cell_type": "code",
   "execution_count": 64,
   "metadata": {},
   "outputs": [
    {
     "data": {
      "text/html": [
       "<div>\n",
       "<style scoped>\n",
       "    .dataframe tbody tr th:only-of-type {\n",
       "        vertical-align: middle;\n",
       "    }\n",
       "\n",
       "    .dataframe tbody tr th {\n",
       "        vertical-align: top;\n",
       "    }\n",
       "\n",
       "    .dataframe thead th {\n",
       "        text-align: right;\n",
       "    }\n",
       "</style>\n",
       "<table border=\"1\" class=\"dataframe\">\n",
       "  <thead>\n",
       "    <tr style=\"text-align: right;\">\n",
       "      <th>Sex</th>\n",
       "      <th>female</th>\n",
       "      <th>male</th>\n",
       "    </tr>\n",
       "    <tr>\n",
       "      <th>Title</th>\n",
       "      <th></th>\n",
       "      <th></th>\n",
       "    </tr>\n",
       "  </thead>\n",
       "  <tbody>\n",
       "    <tr>\n",
       "      <th>Capt</th>\n",
       "      <td>0</td>\n",
       "      <td>1</td>\n",
       "    </tr>\n",
       "    <tr>\n",
       "      <th>Col</th>\n",
       "      <td>0</td>\n",
       "      <td>2</td>\n",
       "    </tr>\n",
       "    <tr>\n",
       "      <th>Countess</th>\n",
       "      <td>1</td>\n",
       "      <td>0</td>\n",
       "    </tr>\n",
       "    <tr>\n",
       "      <th>Don</th>\n",
       "      <td>0</td>\n",
       "      <td>1</td>\n",
       "    </tr>\n",
       "    <tr>\n",
       "      <th>Dr</th>\n",
       "      <td>1</td>\n",
       "      <td>6</td>\n",
       "    </tr>\n",
       "    <tr>\n",
       "      <th>Jonkheer</th>\n",
       "      <td>0</td>\n",
       "      <td>1</td>\n",
       "    </tr>\n",
       "    <tr>\n",
       "      <th>Lady</th>\n",
       "      <td>1</td>\n",
       "      <td>0</td>\n",
       "    </tr>\n",
       "    <tr>\n",
       "      <th>Major</th>\n",
       "      <td>0</td>\n",
       "      <td>2</td>\n",
       "    </tr>\n",
       "    <tr>\n",
       "      <th>Master</th>\n",
       "      <td>0</td>\n",
       "      <td>40</td>\n",
       "    </tr>\n",
       "    <tr>\n",
       "      <th>Miss</th>\n",
       "      <td>182</td>\n",
       "      <td>0</td>\n",
       "    </tr>\n",
       "    <tr>\n",
       "      <th>Mlle</th>\n",
       "      <td>2</td>\n",
       "      <td>0</td>\n",
       "    </tr>\n",
       "    <tr>\n",
       "      <th>Mme</th>\n",
       "      <td>1</td>\n",
       "      <td>0</td>\n",
       "    </tr>\n",
       "    <tr>\n",
       "      <th>Mr</th>\n",
       "      <td>0</td>\n",
       "      <td>517</td>\n",
       "    </tr>\n",
       "    <tr>\n",
       "      <th>Mrs</th>\n",
       "      <td>125</td>\n",
       "      <td>0</td>\n",
       "    </tr>\n",
       "    <tr>\n",
       "      <th>Ms</th>\n",
       "      <td>1</td>\n",
       "      <td>0</td>\n",
       "    </tr>\n",
       "    <tr>\n",
       "      <th>Rev</th>\n",
       "      <td>0</td>\n",
       "      <td>6</td>\n",
       "    </tr>\n",
       "    <tr>\n",
       "      <th>Sir</th>\n",
       "      <td>0</td>\n",
       "      <td>1</td>\n",
       "    </tr>\n",
       "  </tbody>\n",
       "</table>\n",
       "</div>"
      ],
      "text/plain": [
       "Sex       female  male\n",
       "Title                 \n",
       "Capt           0     1\n",
       "Col            0     2\n",
       "Countess       1     0\n",
       "Don            0     1\n",
       "Dr             1     6\n",
       "Jonkheer       0     1\n",
       "Lady           1     0\n",
       "Major          0     2\n",
       "Master         0    40\n",
       "Miss         182     0\n",
       "Mlle           2     0\n",
       "Mme            1     0\n",
       "Mr             0   517\n",
       "Mrs          125     0\n",
       "Ms             1     0\n",
       "Rev            0     6\n",
       "Sir            0     1"
      ]
     },
     "execution_count": 64,
     "metadata": {},
     "output_type": "execute_result"
    }
   ],
   "source": [
    "# Create Title column from Name\n",
    "for df in combine:\n",
    "    df['Title'] = df['Name'].str.extract(' ([A-Za-z]+)\\.', expand=False)\n",
    "\n",
    "pd.crosstab(train['Title'], train['Sex'])"
   ]
  },
  {
   "cell_type": "code",
   "execution_count": 65,
   "metadata": {},
   "outputs": [
    {
     "data": {
      "text/plain": [
       "Title\n",
       "Mr        517\n",
       "Miss      185\n",
       "Mrs       126\n",
       "Master     40\n",
       "Rare       23\n",
       "Name: count, dtype: int64"
      ]
     },
     "execution_count": 65,
     "metadata": {},
     "output_type": "execute_result"
    }
   ],
   "source": [
    "# Replace titles to more common names and group rare titles\n",
    "common = ['Master', 'Mr', 'Miss', 'Mrs']\n",
    "for df in combine:\n",
    "    df['Title'] = df['Title'].replace('Mlle', 'Miss')\n",
    "    df['Title'] = df['Title'].replace('Ms', 'Miss')\n",
    "    df['Title'] = df['Title'].replace('Mme', 'Mrs')\n",
    "    df['Title'] = [x if x in common else 'Rare' for x in df['Title']]\n",
    "\n",
    "train['Title'].value_counts()"
   ]
  },
  {
   "cell_type": "code",
   "execution_count": 66,
   "metadata": {},
   "outputs": [],
   "source": [
    "# Encode columns\n",
    "for df in combine:\n",
    "    df['Sex'] = df['Sex'].map({'female': 0, 'male': 1})\n",
    "    \n",
    "    \n",
    "title_ohe1 = pd.get_dummies(train['Title'], prefix = 'Title', drop_first = True)\n",
    "train = pd.concat([train.drop('Title', axis = 1), title_ohe1], axis = 1)\n",
    "\n",
    "title_ohe2 = pd.get_dummies(test['Title'], prefix = 'Title', drop_first = True)\n",
    "test = pd.concat([test.drop('Title', axis = 1), title_ohe2], axis = 1)"
   ]
  },
  {
   "cell_type": "code",
   "execution_count": 67,
   "metadata": {},
   "outputs": [],
   "source": [
    "# Drop Name, SibSp and Parch columns\n",
    "train = train.drop(['Name', 'SibSp', 'Parch'], axis = 1)\n",
    "test = test.drop(['Name', 'SibSp', 'Parch'], axis = 1)\n",
    "combine = [train, test]\n"
   ]
  },
  {
   "cell_type": "markdown",
   "metadata": {},
   "source": [
    "Check the correlation"
   ]
  },
  {
   "cell_type": "code",
   "execution_count": 70,
   "metadata": {},
   "outputs": [
    {
     "data": {
      "text/html": [
       "<div>\n",
       "<style scoped>\n",
       "    .dataframe tbody tr th:only-of-type {\n",
       "        vertical-align: middle;\n",
       "    }\n",
       "\n",
       "    .dataframe tbody tr th {\n",
       "        vertical-align: top;\n",
       "    }\n",
       "\n",
       "    .dataframe thead th {\n",
       "        text-align: right;\n",
       "    }\n",
       "</style>\n",
       "<table border=\"1\" class=\"dataframe\">\n",
       "  <thead>\n",
       "    <tr style=\"text-align: right;\">\n",
       "      <th></th>\n",
       "      <th>Feature 1</th>\n",
       "      <th>Feature 2</th>\n",
       "      <th>Correlation Coefficient</th>\n",
       "    </tr>\n",
       "  </thead>\n",
       "  <tbody>\n",
       "    <tr>\n",
       "      <th>9</th>\n",
       "      <td>Age</td>\n",
       "      <td>Age</td>\n",
       "      <td>1.000000</td>\n",
       "    </tr>\n",
       "    <tr>\n",
       "      <th>33</th>\n",
       "      <td>Age</td>\n",
       "      <td>Pclass</td>\n",
       "      <td>0.369226</td>\n",
       "    </tr>\n",
       "    <tr>\n",
       "      <th>44</th>\n",
       "      <td>Age</td>\n",
       "      <td>FamilySize</td>\n",
       "      <td>0.301914</td>\n",
       "    </tr>\n",
       "    <tr>\n",
       "      <th>46</th>\n",
       "      <td>Age</td>\n",
       "      <td>Title_Miss</td>\n",
       "      <td>0.277827</td>\n",
       "    </tr>\n",
       "    <tr>\n",
       "      <th>60</th>\n",
       "      <td>Age</td>\n",
       "      <td>Title_Mr</td>\n",
       "      <td>0.206341</td>\n",
       "    </tr>\n",
       "    <tr>\n",
       "      <th>64</th>\n",
       "      <td>Age</td>\n",
       "      <td>Title_Rare</td>\n",
       "      <td>0.194639</td>\n",
       "    </tr>\n",
       "    <tr>\n",
       "      <th>73</th>\n",
       "      <td>Age</td>\n",
       "      <td>Title_Mrs</td>\n",
       "      <td>0.178069</td>\n",
       "    </tr>\n",
       "    <tr>\n",
       "      <th>108</th>\n",
       "      <td>Age</td>\n",
       "      <td>Fare</td>\n",
       "      <td>0.096067</td>\n",
       "    </tr>\n",
       "    <tr>\n",
       "      <th>110</th>\n",
       "      <td>Age</td>\n",
       "      <td>Sex</td>\n",
       "      <td>0.093254</td>\n",
       "    </tr>\n",
       "    <tr>\n",
       "      <th>124</th>\n",
       "      <td>Age</td>\n",
       "      <td>Survived</td>\n",
       "      <td>0.077221</td>\n",
       "    </tr>\n",
       "    <tr>\n",
       "      <th>144</th>\n",
       "      <td>Age</td>\n",
       "      <td>Embarked_C</td>\n",
       "      <td>0.036261</td>\n",
       "    </tr>\n",
       "    <tr>\n",
       "      <th>147</th>\n",
       "      <td>Age</td>\n",
       "      <td>Embarked_S</td>\n",
       "      <td>0.032523</td>\n",
       "    </tr>\n",
       "    <tr>\n",
       "      <th>154</th>\n",
       "      <td>Age</td>\n",
       "      <td>Embarked_Q</td>\n",
       "      <td>0.022405</td>\n",
       "    </tr>\n",
       "  </tbody>\n",
       "</table>\n",
       "</div>"
      ],
      "text/plain": [
       "    Feature 1   Feature 2  Correlation Coefficient\n",
       "9         Age         Age                 1.000000\n",
       "33        Age      Pclass                 0.369226\n",
       "44        Age  FamilySize                 0.301914\n",
       "46        Age  Title_Miss                 0.277827\n",
       "60        Age    Title_Mr                 0.206341\n",
       "64        Age  Title_Rare                 0.194639\n",
       "73        Age   Title_Mrs                 0.178069\n",
       "108       Age        Fare                 0.096067\n",
       "110       Age         Sex                 0.093254\n",
       "124       Age    Survived                 0.077221\n",
       "144       Age  Embarked_C                 0.036261\n",
       "147       Age  Embarked_S                 0.032523\n",
       "154       Age  Embarked_Q                 0.022405"
      ]
     },
     "execution_count": 70,
     "metadata": {},
     "output_type": "execute_result"
    }
   ],
   "source": [
    "# Encode categorical variables using one-hot encoding\n",
    "train_encoded = pd.get_dummies(train)\n",
    "test_encoded = pd.get_dummies(test)\n",
    "\n",
    "# Check correlation of Age with other variables\n",
    "age_corr = train_encoded.corr().abs().unstack().sort_values(kind=\"quicksort\", ascending=False).reset_index()\n",
    "age_corr.rename(columns={\"level_0\": \"Feature 1\", \"level_1\": \"Feature 2\", 0: 'Correlation Coefficient'}, inplace=True)\n",
    "age_corr[age_corr['Feature 1'] == 'Age']\n"
   ]
  },
  {
   "cell_type": "code",
   "execution_count": 71,
   "metadata": {},
   "outputs": [],
   "source": [
    "# Impute Age based on Pclass\n",
    "impute_ages = np.zeros((2,3))\n",
    "for df in combine:\n",
    "    for i in range(0, 2):\n",
    "        for j in range(0, 3):\n",
    "            impute_df = df[(df['Sex'] == i) & \\\n",
    "                                  (df['Pclass'] == j+1)]['Age'].dropna()\n",
    "            impute_ages[i,j] = int(impute_df.median())\n",
    "            \n",
    "    for i in range(0, 2):\n",
    "        for j in range(0, 3):\n",
    "            df.loc[ (df.Age.isnull()) & (df.Sex == i) & (df.Pclass == j+1), 'Age'] = impute_ages[i,j]"
   ]
  },
  {
   "cell_type": "code",
   "execution_count": 72,
   "metadata": {},
   "outputs": [
    {
     "name": "stdout",
     "output_type": "stream",
     "text": [
      "Check correlation between Embarked & Pclass\n",
      "\n"
     ]
    },
    {
     "data": {
      "image/png": "[encoded data removed]",
      "text/plain": [
       "<Figure size 800x600 with 1 Axes>"
      ]
     },
     "metadata": {},
     "output_type": "display_data"
    }
   ],
   "source": [
    "# Check correlation between Embarked & Pclass\n",
    "fig, ax=plt.subplots(1,figsize=(8,6))\n",
    "sns.countplot(x='Embarked',hue='Pclass', data=train)\n",
    "ax.set_ylim(0,400)\n",
    "plt.title(\"Embarked vs Pclass\")\n",
    "print('Check correlation between Embarked & Pclass\\n')\n",
    "plt.show()"
   ]
  },
  {
   "cell_type": "markdown",
   "metadata": {},
   "source": [
    "Lower class passengers were most likely to be embarked from Southhamption and most passengers from C were upper-clas"
   ]
  },
  {
   "cell_type": "code",
   "execution_count": 73,
   "metadata": {},
   "outputs": [],
   "source": [
    "impute_embarked= ['', '', '']\n",
    "for df in combine:\n",
    "    for i in range(0, 3):\n",
    "        impute_val = df[df['Pclass'] == i+1]['Embarked'].dropna().mode()[0]\n",
    "        impute_embarked[i] = impute_val\n",
    "        \n",
    "    for i in range(0, 3):\n",
    "        df.loc[ (df.Embarked.isnull()) & (df.Pclass == i+1), 'Embarked'] = impute_embarked[i]"
   ]
  },
  {
   "cell_type": "code",
   "execution_count": 74,
   "metadata": {},
   "outputs": [],
   "source": [
    "\n",
    "embarked_ohe1 = pd.get_dummies(train['Embarked'], prefix = 'Embarked', drop_first = True)\n",
    "train = pd.concat([train.drop('Embarked', axis = 1), embarked_ohe1], axis = 1)\n",
    "\n",
    "embarked_ohe2 = pd.get_dummies(test['Embarked'], prefix = 'Embarked', drop_first = True)\n",
    "test = pd.concat([test.drop('Embarked', axis = 1), embarked_ohe2], axis = 1)\n",
    "\n",
    "combine = [train, test]"
   ]
  },
  {
   "cell_type": "code",
   "execution_count": 75,
   "metadata": {},
   "outputs": [
    {
     "name": "stdout",
     "output_type": "stream",
     "text": [
      "Number of missing value(s) in every column (Train):\n",
      "Survived      0\n",
      "Pclass        0\n",
      "Sex           0\n",
      "Age           0\n",
      "Fare          0\n",
      "FamilySize    0\n",
      "Title_Miss    0\n",
      "Title_Mr      0\n",
      "Title_Mrs     0\n",
      "Title_Rare    0\n",
      "Embarked_Q    0\n",
      "Embarked_S    0\n",
      "dtype: int64\n",
      "Number of missing value(s) in every column (Test):\n",
      "PassengerId    0\n",
      "Pclass         0\n",
      "Sex            0\n",
      "Age            0\n",
      "Fare           0\n",
      "FamilySize     0\n",
      "Title_Miss     0\n",
      "Title_Mr       0\n",
      "Title_Mrs      0\n",
      "Title_Rare     0\n",
      "Embarked_Q     0\n",
      "Embarked_S     0\n",
      "dtype: int64\n"
     ]
    }
   ],
   "source": [
    "imputer = SimpleImputer()\n",
    "test['Fare'] = list(imputer.fit_transform(test[['Fare']]))\n",
    "test['Fare'] = [x[0] for x in test['Fare']]\n",
    "\n",
    "# Check if there's any missing values left\n",
    "print('Number of missing value(s) in every column (Train):')\n",
    "print(train.isnull().sum())\n",
    "print('Number of missing value(s) in every column (Test):')\n",
    "print(test.isnull().sum())"
   ]
  },
  {
   "cell_type": "markdown",
   "metadata": {},
   "source": [
    "## Modelling"
   ]
  },
  {
   "cell_type": "code",
   "execution_count": 79,
   "metadata": {},
   "outputs": [],
   "source": [
    "# Modeling\n",
    "from sklearn.linear_model import LogisticRegression\n",
    "from sklearn.tree import DecisionTreeClassifier\n",
    "from sklearn.ensemble import RandomForestClassifier\n",
    "from xgboost.sklearn import XGBClassifier\n",
    "from sklearn.ensemble import GradientBoostingClassifier\n",
    "from lightgbm import LGBMClassifier\n",
    "#from catboost import CatBoostClassifier\n",
    "from sklearn.experimental import enable_hist_gradient_boosting\n",
    "\n",
    "\n",
    "from sklearn import metrics\n",
    "from sklearn.model_selection import train_test_split\n",
    "from sklearn.model_selection import GridSearchCV"
   ]
  },
  {
   "cell_type": "code",
   "execution_count": 80,
   "metadata": {},
   "outputs": [],
   "source": [
    "X = train.drop(columns = 'Survived')\n",
    "X = pd.get_dummies(X, drop_first = True)\n",
    "\n",
    "y = train['Survived']"
   ]
  },
  {
   "cell_type": "code",
   "execution_count": 81,
   "metadata": {},
   "outputs": [],
   "source": [
    "X_train, X_test, y_train, y_test = train_test_split(X, y, test_size = 0.2, random_state = 42)"
   ]
  },
  {
   "cell_type": "code",
   "execution_count": 84,
   "metadata": {},
   "outputs": [],
   "source": [
    "def find_best_model(X_train, X_test, y_train, y_test):\n",
    "    # Logistic Regression\n",
    "    logreg = LogisticRegression(max_iter = 600, random_state = 42)\n",
    "    logreg.fit(X_train, y_train)\n",
    "    y_pred = logreg.predict(X_test)\n",
    "    logreg_acc = round(metrics.accuracy_score(y_test, y_pred) * 100, 2)\n",
    "    \n",
    "    # Decision Tree\n",
    "    decision_tree = DecisionTreeClassifier(random_state = 42)\n",
    "    decision_tree.fit(X_train, y_train)\n",
    "    y_pred = decision_tree.predict(X_test)\n",
    "    decision_tree_acc = round(metrics.accuracy_score(y_test, y_pred) * 100, 2)\n",
    "    \n",
    "    # Random Forest\n",
    "    random_forest = RandomForestClassifier(random_state = 42)\n",
    "    random_forest.fit(X_train, y_train)\n",
    "    y_pred = random_forest.predict(X_test)\n",
    "    random_forest_acc = round(metrics.accuracy_score(y_test, y_pred) * 100, 2)\n",
    "    \n",
    "    # XGBoost\n",
    "    xgb = XGBClassifier(random_state = 42)\n",
    "    xgb.fit(X_train, y_train)\n",
    "    y_pred = xgb.predict(X_test)\n",
    "    xgb_acc = round(metrics.accuracy_score(y_test, y_pred) * 100, 2)\n",
    "    \n",
    "    # GBM\n",
    "    gbm = GradientBoostingClassifier(random_state = 42)\n",
    "    gbm.fit(X_train, y_train)\n",
    "    y_pred = gbm.predict(X_test)\n",
    "    gbm_acc = round(metrics.accuracy_score(y_test, y_pred) * 100, 2)\n",
    "    \n",
    "    # LightGBM\n",
    "    lgbm = LGBMClassifier(random_state = 42)\n",
    "    lgbm.fit(X_train, y_train)\n",
    "    y_pred = lgbm.predict(X_test)\n",
    "    lgbm_acc = round(metrics.accuracy_score(y_test, y_pred) * 100, 2)\n",
    "        \n",
    "    \n",
    "    model_df = pd.DataFrame({'Model': ['Logistic Regression', 'Decision Tree', 'Random Forest', 'XGBoost', 'GBM', 'LightGBM'],\n",
    "                       'Score': [logreg_acc, decision_tree_acc, random_forest_acc, xgb_acc, gbm_acc, lgbm_acc]})\n",
    "    print(model_df.sort_values('Score', ascending = False).reset_index(drop = True))"
   ]
  },
  {
   "cell_type": "code",
   "execution_count": 85,
   "metadata": {},
   "outputs": [
    {
     "name": "stdout",
     "output_type": "stream",
     "text": [
      "[LightGBM] [Info] Number of positive: 268, number of negative: 444\n",
      "[LightGBM] [Info] Auto-choosing row-wise multi-threading, the overhead of testing was 0.000423 seconds.\n",
      "You can set `force_row_wise=true` to remove the overhead.\n",
      "And if memory is not enough, you can set `force_col_wise=true`.\n",
      "[LightGBM] [Info] Total Bins 197\n",
      "[LightGBM] [Info] Number of data points in the train set: 712, number of used features: 10\n",
      "[LightGBM] [Info] [binary:BoostFromScore]: pavg=0.376404 -> initscore=-0.504838\n",
      "[LightGBM] [Info] Start training from score -0.504838\n",
      "[LightGBM] [Warning] No further splits with positive gain, best gain: -inf\n",
      "[LightGBM] [Warning] No further splits with positive gain, best gain: -inf\n",
      "[LightGBM] [Warning] No further splits with positive gain, best gain: -inf\n",
      "[LightGBM] [Warning] No further splits with positive gain, best gain: -inf\n",
      "[LightGBM] [Warning] No further splits with positive gain, best gain: -inf\n",
      "[LightGBM] [Warning] No further splits with positive gain, best gain: -inf\n",
      "[LightGBM] [Warning] No further splits with positive gain, best gain: -inf\n",
      "[LightGBM] [Warning] No further splits with positive gain, best gain: -inf\n",
      "[LightGBM] [Warning] No further splits with positive gain, best gain: -inf\n",
      "[LightGBM] [Warning] No further splits with positive gain, best gain: -inf\n",
      "[LightGBM] [Warning] No further splits with positive gain, best gain: -inf\n",
      "[LightGBM] [Warning] No further splits with positive gain, best gain: -inf\n",
      "[LightGBM] [Warning] No further splits with positive gain, best gain: -inf\n",
      "[LightGBM] [Warning] No further splits with positive gain, best gain: -inf\n",
      "[LightGBM] [Warning] No further splits with positive gain, best gain: -inf\n",
      "[LightGBM] [Warning] No further splits with positive gain, best gain: -inf\n",
      "[LightGBM] [Warning] No further splits with positive gain, best gain: -inf\n",
      "[LightGBM] [Warning] No further splits with positive gain, best gain: -inf\n",
      "[LightGBM] [Warning] No further splits with positive gain, best gain: -inf\n",
      "[LightGBM] [Warning] No further splits with positive gain, best gain: -inf\n",
      "[LightGBM] [Warning] No further splits with positive gain, best gain: -inf\n",
      "[LightGBM] [Warning] No further splits with positive gain, best gain: -inf\n",
      "[LightGBM] [Warning] No further splits with positive gain, best gain: -inf\n",
      "[LightGBM] [Warning] No further splits with positive gain, best gain: -inf\n",
      "[LightGBM] [Warning] No further splits with positive gain, best gain: -inf\n",
      "[LightGBM] [Warning] No further splits with positive gain, best gain: -inf\n",
      "[LightGBM] [Warning] No further splits with positive gain, best gain: -inf\n",
      "[LightGBM] [Warning] No further splits with positive gain, best gain: -inf\n",
      "[LightGBM] [Warning] No further splits with positive gain, best gain: -inf\n",
      "[LightGBM] [Warning] No further splits with positive gain, best gain: -inf\n",
      "[LightGBM] [Warning] No further splits with positive gain, best gain: -inf\n",
      "[LightGBM] [Warning] No further splits with positive gain, best gain: -inf\n",
      "[LightGBM] [Warning] No further splits with positive gain, best gain: -inf\n",
      "[LightGBM] [Warning] No further splits with positive gain, best gain: -inf\n",
      "[LightGBM] [Warning] No further splits with positive gain, best gain: -inf\n",
      "[LightGBM] [Warning] No further splits with positive gain, best gain: -inf\n",
      "[LightGBM] [Warning] No further splits with positive gain, best gain: -inf\n",
      "[LightGBM] [Warning] No further splits with positive gain, best gain: -inf\n",
      "[LightGBM] [Warning] No further splits with positive gain, best gain: -inf\n",
      "[LightGBM] [Warning] No further splits with positive gain, best gain: -inf\n",
      "[LightGBM] [Warning] No further splits with positive gain, best gain: -inf\n",
      "[LightGBM] [Warning] No further splits with positive gain, best gain: -inf\n",
      "[LightGBM] [Warning] No further splits with positive gain, best gain: -inf\n",
      "[LightGBM] [Warning] No further splits with positive gain, best gain: -inf\n",
      "[LightGBM] [Warning] No further splits with positive gain, best gain: -inf\n",
      "[LightGBM] [Warning] No further splits with positive gain, best gain: -inf\n",
      "[LightGBM] [Warning] No further splits with positive gain, best gain: -inf\n",
      "[LightGBM] [Warning] No further splits with positive gain, best gain: -inf\n",
      "[LightGBM] [Warning] No further splits with positive gain, best gain: -inf\n",
      "[LightGBM] [Warning] No further splits with positive gain, best gain: -inf\n",
      "[LightGBM] [Warning] No further splits with positive gain, best gain: -inf\n",
      "[LightGBM] [Warning] No further splits with positive gain, best gain: -inf\n",
      "[LightGBM] [Warning] No further splits with positive gain, best gain: -inf\n",
      "[LightGBM] [Warning] No further splits with positive gain, best gain: -inf\n",
      "[LightGBM] [Warning] No further splits with positive gain, best gain: -inf\n",
      "[LightGBM] [Warning] No further splits with positive gain, best gain: -inf\n",
      "[LightGBM] [Warning] No further splits with positive gain, best gain: -inf\n",
      "[LightGBM] [Warning] No further splits with positive gain, best gain: -inf\n",
      "[LightGBM] [Warning] No further splits with positive gain, best gain: -inf\n",
      "[LightGBM] [Warning] No further splits with positive gain, best gain: -inf\n",
      "[LightGBM] [Warning] No further splits with positive gain, best gain: -inf\n",
      "[LightGBM] [Warning] No further splits with positive gain, best gain: -inf\n",
      "[LightGBM] [Warning] No further splits with positive gain, best gain: -inf\n",
      "[LightGBM] [Warning] No further splits with positive gain, best gain: -inf\n",
      "[LightGBM] [Warning] No further splits with positive gain, best gain: -inf\n",
      "[LightGBM] [Warning] No further splits with positive gain, best gain: -inf\n",
      "[LightGBM] [Warning] No further splits with positive gain, best gain: -inf\n",
      "[LightGBM] [Warning] No further splits with positive gain, best gain: -inf\n",
      "[LightGBM] [Warning] No further splits with positive gain, best gain: -inf\n",
      "[LightGBM] [Warning] No further splits with positive gain, best gain: -inf\n",
      "[LightGBM] [Warning] No further splits with positive gain, best gain: -inf\n",
      "[LightGBM] [Warning] No further splits with positive gain, best gain: -inf\n",
      "[LightGBM] [Warning] No further splits with positive gain, best gain: -inf\n",
      "[LightGBM] [Warning] No further splits with positive gain, best gain: -inf\n",
      "[LightGBM] [Warning] No further splits with positive gain, best gain: -inf\n",
      "[LightGBM] [Warning] No further splits with positive gain, best gain: -inf\n",
      "[LightGBM] [Warning] No further splits with positive gain, best gain: -inf\n",
      "[LightGBM] [Warning] No further splits with positive gain, best gain: -inf\n",
      "[LightGBM] [Warning] No further splits with positive gain, best gain: -inf\n",
      "[LightGBM] [Warning] No further splits with positive gain, best gain: -inf\n",
      "[LightGBM] [Warning] No further splits with positive gain, best gain: -inf\n",
      "[LightGBM] [Warning] No further splits with positive gain, best gain: -inf\n",
      "[LightGBM] [Warning] No further splits with positive gain, best gain: -inf\n",
      "[LightGBM] [Warning] No further splits with positive gain, best gain: -inf\n",
      "[LightGBM] [Warning] No further splits with positive gain, best gain: -inf\n",
      "[LightGBM] [Warning] No further splits with positive gain, best gain: -inf\n",
      "[LightGBM] [Warning] No further splits with positive gain, best gain: -inf\n",
      "[LightGBM] [Warning] No further splits with positive gain, best gain: -inf\n",
      "[LightGBM] [Warning] No further splits with positive gain, best gain: -inf\n",
      "[LightGBM] [Warning] No further splits with positive gain, best gain: -inf\n",
      "[LightGBM] [Warning] No further splits with positive gain, best gain: -inf\n",
      "[LightGBM] [Warning] No further splits with positive gain, best gain: -inf\n",
      "[LightGBM] [Warning] No further splits with positive gain, best gain: -inf\n",
      "[LightGBM] [Warning] No further splits with positive gain, best gain: -inf\n",
      "[LightGBM] [Warning] No further splits with positive gain, best gain: -inf\n",
      "                 Model  Score\n",
      "0        Random Forest  84.92\n",
      "1             LightGBM  84.36\n",
      "2              XGBoost  83.80\n",
      "3                  GBM  83.24\n",
      "4  Logistic Regression  79.89\n",
      "5        Decision Tree  77.65\n"
     ]
    }
   ],
   "source": [
    "find_best_model(X_train, X_test, y_train, y_test)"
   ]
  },
  {
   "cell_type": "markdown",
   "metadata": {},
   "source": [
    "Random Forest works the best"
   ]
  },
  {
   "cell_type": "code",
   "execution_count": 88,
   "metadata": {},
   "outputs": [
    {
     "name": "stdout",
     "output_type": "stream",
     "text": [
      "Fitting 5 folds for each of 18 candidates, totalling 90 fits\n",
      "[CV 1/5; 1/18] START criterion=gini, max_depth=4, max_features=sqrt, n_estimators=100\n",
      "[CV 1/5; 1/18] END criterion=gini, max_depth=4, max_features=sqrt, n_estimators=100;, score=0.844 total time=   0.1s\n",
      "[CV 2/5; 1/18] START criterion=gini, max_depth=4, max_features=sqrt, n_estimators=100\n",
      "[CV 2/5; 1/18] END criterion=gini, max_depth=4, max_features=sqrt, n_estimators=100;, score=0.820 total time=   0.1s\n",
      "[CV 3/5; 1/18] START criterion=gini, max_depth=4, max_features=sqrt, n_estimators=100\n",
      "[CV 3/5; 1/18] END criterion=gini, max_depth=4, max_features=sqrt, n_estimators=100;, score=0.826 total time=   0.1s\n",
      "[CV 4/5; 1/18] START criterion=gini, max_depth=4, max_features=sqrt, n_estimators=100\n",
      "[CV 4/5; 1/18] END criterion=gini, max_depth=4, max_features=sqrt, n_estimators=100;, score=0.798 total time=   0.1s\n",
      "[CV 5/5; 1/18] START criterion=gini, max_depth=4, max_features=sqrt, n_estimators=100\n",
      "[CV 5/5; 1/18] END criterion=gini, max_depth=4, max_features=sqrt, n_estimators=100;, score=0.843 total time=   0.1s\n",
      "[CV 1/5; 2/18] START criterion=gini, max_depth=4, max_features=sqrt, n_estimators=200\n",
      "[CV 1/5; 2/18] END criterion=gini, max_depth=4, max_features=sqrt, n_estimators=200;, score=0.844 total time=   0.2s\n",
      "[CV 2/5; 2/18] START criterion=gini, max_depth=4, max_features=sqrt, n_estimators=200\n",
      "[CV 2/5; 2/18] END criterion=gini, max_depth=4, max_features=sqrt, n_estimators=200;, score=0.820 total time=   0.1s\n",
      "[CV 3/5; 2/18] START criterion=gini, max_depth=4, max_features=sqrt, n_estimators=200\n",
      "[CV 3/5; 2/18] END criterion=gini, max_depth=4, max_features=sqrt, n_estimators=200;, score=0.826 total time=   0.2s\n",
      "[CV 4/5; 2/18] START criterion=gini, max_depth=4, max_features=sqrt, n_estimators=200\n",
      "[CV 4/5; 2/18] END criterion=gini, max_depth=4, max_features=sqrt, n_estimators=200;, score=0.798 total time=   0.3s\n",
      "[CV 5/5; 2/18] START criterion=gini, max_depth=4, max_features=sqrt, n_estimators=200\n",
      "[CV 5/5; 2/18] END criterion=gini, max_depth=4, max_features=sqrt, n_estimators=200;, score=0.843 total time=   0.2s\n",
      "[CV 1/5; 3/18] START criterion=gini, max_depth=4, max_features=sqrt, n_estimators=300\n",
      "[CV 1/5; 3/18] END criterion=gini, max_depth=4, max_features=sqrt, n_estimators=300;, score=0.849 total time=   0.2s\n",
      "[CV 2/5; 3/18] START criterion=gini, max_depth=4, max_features=sqrt, n_estimators=300\n",
      "[CV 2/5; 3/18] END criterion=gini, max_depth=4, max_features=sqrt, n_estimators=300;, score=0.820 total time=   0.2s\n",
      "[CV 3/5; 3/18] START criterion=gini, max_depth=4, max_features=sqrt, n_estimators=300\n",
      "[CV 3/5; 3/18] END criterion=gini, max_depth=4, max_features=sqrt, n_estimators=300;, score=0.826 total time=   0.2s\n",
      "[CV 4/5; 3/18] START criterion=gini, max_depth=4, max_features=sqrt, n_estimators=300\n",
      "[CV 4/5; 3/18] END criterion=gini, max_depth=4, max_features=sqrt, n_estimators=300;, score=0.798 total time=   0.3s\n",
      "[CV 5/5; 3/18] START criterion=gini, max_depth=4, max_features=sqrt, n_estimators=300\n",
      "[CV 5/5; 3/18] END criterion=gini, max_depth=4, max_features=sqrt, n_estimators=300;, score=0.843 total time=   0.4s\n",
      "[CV 1/5; 4/18] START criterion=gini, max_depth=6, max_features=sqrt, n_estimators=100\n",
      "[CV 1/5; 4/18] END criterion=gini, max_depth=6, max_features=sqrt, n_estimators=100;, score=0.838 total time=   0.1s\n",
      "[CV 2/5; 4/18] START criterion=gini, max_depth=6, max_features=sqrt, n_estimators=100\n",
      "[CV 2/5; 4/18] END criterion=gini, max_depth=6, max_features=sqrt, n_estimators=100;, score=0.820 total time=   0.1s\n",
      "[CV 3/5; 4/18] START criterion=gini, max_depth=6, max_features=sqrt, n_estimators=100\n",
      "[CV 3/5; 4/18] END criterion=gini, max_depth=6, max_features=sqrt, n_estimators=100;, score=0.826 total time=   0.1s\n",
      "[CV 4/5; 4/18] START criterion=gini, max_depth=6, max_features=sqrt, n_estimators=100\n",
      "[CV 4/5; 4/18] END criterion=gini, max_depth=6, max_features=sqrt, n_estimators=100;, score=0.792 total time=   0.1s\n",
      "[CV 5/5; 4/18] START criterion=gini, max_depth=6, max_features=sqrt, n_estimators=100\n",
      "[CV 5/5; 4/18] END criterion=gini, max_depth=6, max_features=sqrt, n_estimators=100;, score=0.831 total time=   0.1s\n",
      "[CV 1/5; 5/18] START criterion=gini, max_depth=6, max_features=sqrt, n_estimators=200\n",
      "[CV 1/5; 5/18] END criterion=gini, max_depth=6, max_features=sqrt, n_estimators=200;, score=0.832 total time=   0.2s\n",
      "[CV 2/5; 5/18] START criterion=gini, max_depth=6, max_features=sqrt, n_estimators=200\n",
      "[CV 2/5; 5/18] END criterion=gini, max_depth=6, max_features=sqrt, n_estimators=200;, score=0.809 total time=   0.1s\n",
      "[CV 3/5; 5/18] START criterion=gini, max_depth=6, max_features=sqrt, n_estimators=200\n",
      "[CV 3/5; 5/18] END criterion=gini, max_depth=6, max_features=sqrt, n_estimators=200;, score=0.826 total time=   0.2s\n",
      "[CV 4/5; 5/18] START criterion=gini, max_depth=6, max_features=sqrt, n_estimators=200\n",
      "[CV 4/5; 5/18] END criterion=gini, max_depth=6, max_features=sqrt, n_estimators=200;, score=0.798 total time=   0.3s\n",
      "[CV 5/5; 5/18] START criterion=gini, max_depth=6, max_features=sqrt, n_estimators=200\n",
      "[CV 5/5; 5/18] END criterion=gini, max_depth=6, max_features=sqrt, n_estimators=200;, score=0.831 total time=   0.2s\n",
      "[CV 1/5; 6/18] START criterion=gini, max_depth=6, max_features=sqrt, n_estimators=300\n",
      "[CV 1/5; 6/18] END criterion=gini, max_depth=6, max_features=sqrt, n_estimators=300;, score=0.832 total time=   0.2s\n",
      "[CV 2/5; 6/18] START criterion=gini, max_depth=6, max_features=sqrt, n_estimators=300\n",
      "[CV 2/5; 6/18] END criterion=gini, max_depth=6, max_features=sqrt, n_estimators=300;, score=0.815 total time=   0.2s\n",
      "[CV 3/5; 6/18] START criterion=gini, max_depth=6, max_features=sqrt, n_estimators=300\n",
      "[CV 3/5; 6/18] END criterion=gini, max_depth=6, max_features=sqrt, n_estimators=300;, score=0.831 total time=   0.2s\n",
      "[CV 4/5; 6/18] START criterion=gini, max_depth=6, max_features=sqrt, n_estimators=300\n",
      "[CV 4/5; 6/18] END criterion=gini, max_depth=6, max_features=sqrt, n_estimators=300;, score=0.792 total time=   0.4s\n",
      "[CV 5/5; 6/18] START criterion=gini, max_depth=6, max_features=sqrt, n_estimators=300\n",
      "[CV 5/5; 6/18] END criterion=gini, max_depth=6, max_features=sqrt, n_estimators=300;, score=0.831 total time=   0.2s\n",
      "[CV 1/5; 7/18] START criterion=gini, max_depth=8, max_features=sqrt, n_estimators=100\n",
      "[CV 1/5; 7/18] END criterion=gini, max_depth=8, max_features=sqrt, n_estimators=100;, score=0.832 total time=   0.1s\n",
      "[CV 2/5; 7/18] START criterion=gini, max_depth=8, max_features=sqrt, n_estimators=100\n",
      "[CV 2/5; 7/18] END criterion=gini, max_depth=8, max_features=sqrt, n_estimators=100;, score=0.803 total time=   0.1s\n",
      "[CV 3/5; 7/18] START criterion=gini, max_depth=8, max_features=sqrt, n_estimators=100\n",
      "[CV 3/5; 7/18] END criterion=gini, max_depth=8, max_features=sqrt, n_estimators=100;, score=0.865 total time=   0.1s\n",
      "[CV 4/5; 7/18] START criterion=gini, max_depth=8, max_features=sqrt, n_estimators=100\n",
      "[CV 4/5; 7/18] END criterion=gini, max_depth=8, max_features=sqrt, n_estimators=100;, score=0.798 total time=   0.1s\n",
      "[CV 5/5; 7/18] START criterion=gini, max_depth=8, max_features=sqrt, n_estimators=100\n",
      "[CV 5/5; 7/18] END criterion=gini, max_depth=8, max_features=sqrt, n_estimators=100;, score=0.820 total time=   0.1s\n",
      "[CV 1/5; 8/18] START criterion=gini, max_depth=8, max_features=sqrt, n_estimators=200\n",
      "[CV 1/5; 8/18] END criterion=gini, max_depth=8, max_features=sqrt, n_estimators=200;, score=0.832 total time=   0.2s\n",
      "[CV 2/5; 8/18] START criterion=gini, max_depth=8, max_features=sqrt, n_estimators=200\n",
      "[CV 2/5; 8/18] END criterion=gini, max_depth=8, max_features=sqrt, n_estimators=200;, score=0.809 total time=   0.2s\n",
      "[CV 3/5; 8/18] START criterion=gini, max_depth=8, max_features=sqrt, n_estimators=200\n",
      "[CV 3/5; 8/18] END criterion=gini, max_depth=8, max_features=sqrt, n_estimators=200;, score=0.865 total time=   0.3s\n",
      "[CV 4/5; 8/18] START criterion=gini, max_depth=8, max_features=sqrt, n_estimators=200\n",
      "[CV 4/5; 8/18] END criterion=gini, max_depth=8, max_features=sqrt, n_estimators=200;, score=0.798 total time=   0.2s\n",
      "[CV 5/5; 8/18] START criterion=gini, max_depth=8, max_features=sqrt, n_estimators=200\n",
      "[CV 5/5; 8/18] END criterion=gini, max_depth=8, max_features=sqrt, n_estimators=200;, score=0.826 total time=   0.1s\n",
      "[CV 1/5; 9/18] START criterion=gini, max_depth=8, max_features=sqrt, n_estimators=300\n",
      "[CV 1/5; 9/18] END criterion=gini, max_depth=8, max_features=sqrt, n_estimators=300;, score=0.838 total time=   0.2s\n",
      "[CV 2/5; 9/18] START criterion=gini, max_depth=8, max_features=sqrt, n_estimators=300\n",
      "[CV 2/5; 9/18] END criterion=gini, max_depth=8, max_features=sqrt, n_estimators=300;, score=0.809 total time=   0.2s\n",
      "[CV 3/5; 9/18] START criterion=gini, max_depth=8, max_features=sqrt, n_estimators=300\n",
      "[CV 3/5; 9/18] END criterion=gini, max_depth=8, max_features=sqrt, n_estimators=300;, score=0.854 total time=   0.3s\n",
      "[CV 4/5; 9/18] START criterion=gini, max_depth=8, max_features=sqrt, n_estimators=300\n",
      "[CV 4/5; 9/18] END criterion=gini, max_depth=8, max_features=sqrt, n_estimators=300;, score=0.792 total time=   0.4s\n",
      "[CV 5/5; 9/18] START criterion=gini, max_depth=8, max_features=sqrt, n_estimators=300\n",
      "[CV 5/5; 9/18] END criterion=gini, max_depth=8, max_features=sqrt, n_estimators=300;, score=0.826 total time=   0.2s\n",
      "[CV 1/5; 10/18] START criterion=entropy, max_depth=4, max_features=sqrt, n_estimators=100\n",
      "[CV 1/5; 10/18] END criterion=entropy, max_depth=4, max_features=sqrt, n_estimators=100;, score=0.844 total time=   0.1s\n",
      "[CV 2/5; 10/18] START criterion=entropy, max_depth=4, max_features=sqrt, n_estimators=100\n",
      "[CV 2/5; 10/18] END criterion=entropy, max_depth=4, max_features=sqrt, n_estimators=100;, score=0.831 total time=   0.1s\n",
      "[CV 3/5; 10/18] START criterion=entropy, max_depth=4, max_features=sqrt, n_estimators=100\n",
      "[CV 3/5; 10/18] END criterion=entropy, max_depth=4, max_features=sqrt, n_estimators=100;, score=0.826 total time=   0.1s\n",
      "[CV 4/5; 10/18] START criterion=entropy, max_depth=4, max_features=sqrt, n_estimators=100\n",
      "[CV 4/5; 10/18] END criterion=entropy, max_depth=4, max_features=sqrt, n_estimators=100;, score=0.798 total time=   0.1s\n",
      "[CV 5/5; 10/18] START criterion=entropy, max_depth=4, max_features=sqrt, n_estimators=100\n",
      "[CV 5/5; 10/18] END criterion=entropy, max_depth=4, max_features=sqrt, n_estimators=100;, score=0.843 total time=   0.1s\n",
      "[CV 1/5; 11/18] START criterion=entropy, max_depth=4, max_features=sqrt, n_estimators=200\n",
      "[CV 1/5; 11/18] END criterion=entropy, max_depth=4, max_features=sqrt, n_estimators=200;, score=0.838 total time=   0.1s\n",
      "[CV 2/5; 11/18] START criterion=entropy, max_depth=4, max_features=sqrt, n_estimators=200\n",
      "[CV 2/5; 11/18] END criterion=entropy, max_depth=4, max_features=sqrt, n_estimators=200;, score=0.820 total time=   0.3s\n",
      "[CV 3/5; 11/18] START criterion=entropy, max_depth=4, max_features=sqrt, n_estimators=200\n",
      "[CV 3/5; 11/18] END criterion=entropy, max_depth=4, max_features=sqrt, n_estimators=200;, score=0.826 total time=   0.2s\n",
      "[CV 4/5; 11/18] START criterion=entropy, max_depth=4, max_features=sqrt, n_estimators=200\n",
      "[CV 4/5; 11/18] END criterion=entropy, max_depth=4, max_features=sqrt, n_estimators=200;, score=0.798 total time=   0.1s\n",
      "[CV 5/5; 11/18] START criterion=entropy, max_depth=4, max_features=sqrt, n_estimators=200\n",
      "[CV 5/5; 11/18] END criterion=entropy, max_depth=4, max_features=sqrt, n_estimators=200;, score=0.843 total time=   0.1s\n",
      "[CV 1/5; 12/18] START criterion=entropy, max_depth=4, max_features=sqrt, n_estimators=300\n",
      "[CV 1/5; 12/18] END criterion=entropy, max_depth=4, max_features=sqrt, n_estimators=300;, score=0.832 total time=   0.2s\n",
      "[CV 2/5; 12/18] START criterion=entropy, max_depth=4, max_features=sqrt, n_estimators=300\n",
      "[CV 2/5; 12/18] END criterion=entropy, max_depth=4, max_features=sqrt, n_estimators=300;, score=0.820 total time=   0.2s\n",
      "[CV 3/5; 12/18] START criterion=entropy, max_depth=4, max_features=sqrt, n_estimators=300\n",
      "[CV 3/5; 12/18] END criterion=entropy, max_depth=4, max_features=sqrt, n_estimators=300;, score=0.826 total time=   0.4s\n",
      "[CV 4/5; 12/18] START criterion=entropy, max_depth=4, max_features=sqrt, n_estimators=300\n",
      "[CV 4/5; 12/18] END criterion=entropy, max_depth=4, max_features=sqrt, n_estimators=300;, score=0.798 total time=   0.3s\n",
      "[CV 5/5; 12/18] START criterion=entropy, max_depth=4, max_features=sqrt, n_estimators=300\n",
      "[CV 5/5; 12/18] END criterion=entropy, max_depth=4, max_features=sqrt, n_estimators=300;, score=0.848 total time=   0.2s\n",
      "[CV 1/5; 13/18] START criterion=entropy, max_depth=6, max_features=sqrt, n_estimators=100\n",
      "[CV 1/5; 13/18] END criterion=entropy, max_depth=6, max_features=sqrt, n_estimators=100;, score=0.844 total time=   0.1s\n",
      "[CV 2/5; 13/18] START criterion=entropy, max_depth=6, max_features=sqrt, n_estimators=100\n",
      "[CV 2/5; 13/18] END criterion=entropy, max_depth=6, max_features=sqrt, n_estimators=100;, score=0.826 total time=   0.1s\n",
      "[CV 3/5; 13/18] START criterion=entropy, max_depth=6, max_features=sqrt, n_estimators=100\n",
      "[CV 3/5; 13/18] END criterion=entropy, max_depth=6, max_features=sqrt, n_estimators=100;, score=0.826 total time=   0.1s\n",
      "[CV 4/5; 13/18] START criterion=entropy, max_depth=6, max_features=sqrt, n_estimators=100\n",
      "[CV 4/5; 13/18] END criterion=entropy, max_depth=6, max_features=sqrt, n_estimators=100;, score=0.792 total time=   0.1s\n",
      "[CV 5/5; 13/18] START criterion=entropy, max_depth=6, max_features=sqrt, n_estimators=100\n",
      "[CV 5/5; 13/18] END criterion=entropy, max_depth=6, max_features=sqrt, n_estimators=100;, score=0.831 total time=   0.1s\n",
      "[CV 1/5; 14/18] START criterion=entropy, max_depth=6, max_features=sqrt, n_estimators=200\n",
      "[CV 1/5; 14/18] END criterion=entropy, max_depth=6, max_features=sqrt, n_estimators=200;, score=0.838 total time=   0.2s\n",
      "[CV 2/5; 14/18] START criterion=entropy, max_depth=6, max_features=sqrt, n_estimators=200\n",
      "[CV 2/5; 14/18] END criterion=entropy, max_depth=6, max_features=sqrt, n_estimators=200;, score=0.820 total time=   0.3s\n",
      "[CV 3/5; 14/18] START criterion=entropy, max_depth=6, max_features=sqrt, n_estimators=200\n",
      "[CV 3/5; 14/18] END criterion=entropy, max_depth=6, max_features=sqrt, n_estimators=200;, score=0.826 total time=   0.2s\n",
      "[CV 4/5; 14/18] START criterion=entropy, max_depth=6, max_features=sqrt, n_estimators=200\n",
      "[CV 4/5; 14/18] END criterion=entropy, max_depth=6, max_features=sqrt, n_estimators=200;, score=0.798 total time=   0.1s\n",
      "[CV 5/5; 14/18] START criterion=entropy, max_depth=6, max_features=sqrt, n_estimators=200\n",
      "[CV 5/5; 14/18] END criterion=entropy, max_depth=6, max_features=sqrt, n_estimators=200;, score=0.837 total time=   0.1s\n",
      "[CV 1/5; 15/18] START criterion=entropy, max_depth=6, max_features=sqrt, n_estimators=300\n",
      "[CV 1/5; 15/18] END criterion=entropy, max_depth=6, max_features=sqrt, n_estimators=300;, score=0.832 total time=   0.2s\n",
      "[CV 2/5; 15/18] START criterion=entropy, max_depth=6, max_features=sqrt, n_estimators=300\n",
      "[CV 2/5; 15/18] END criterion=entropy, max_depth=6, max_features=sqrt, n_estimators=300;, score=0.826 total time=   0.2s\n",
      "[CV 3/5; 15/18] START criterion=entropy, max_depth=6, max_features=sqrt, n_estimators=300\n",
      "[CV 3/5; 15/18] END criterion=entropy, max_depth=6, max_features=sqrt, n_estimators=300;, score=0.826 total time=   0.4s\n",
      "[CV 4/5; 15/18] START criterion=entropy, max_depth=6, max_features=sqrt, n_estimators=300\n",
      "[CV 4/5; 15/18] END criterion=entropy, max_depth=6, max_features=sqrt, n_estimators=300;, score=0.798 total time=   0.2s\n",
      "[CV 5/5; 15/18] START criterion=entropy, max_depth=6, max_features=sqrt, n_estimators=300\n",
      "[CV 5/5; 15/18] END criterion=entropy, max_depth=6, max_features=sqrt, n_estimators=300;, score=0.843 total time=   0.2s\n",
      "[CV 1/5; 16/18] START criterion=entropy, max_depth=8, max_features=sqrt, n_estimators=100\n",
      "[CV 1/5; 16/18] END criterion=entropy, max_depth=8, max_features=sqrt, n_estimators=100;, score=0.832 total time=   0.1s\n",
      "[CV 2/5; 16/18] START criterion=entropy, max_depth=8, max_features=sqrt, n_estimators=100\n",
      "[CV 2/5; 16/18] END criterion=entropy, max_depth=8, max_features=sqrt, n_estimators=100;, score=0.809 total time=   0.1s\n",
      "[CV 3/5; 16/18] START criterion=entropy, max_depth=8, max_features=sqrt, n_estimators=100\n",
      "[CV 3/5; 16/18] END criterion=entropy, max_depth=8, max_features=sqrt, n_estimators=100;, score=0.865 total time=   0.1s\n",
      "[CV 4/5; 16/18] START criterion=entropy, max_depth=8, max_features=sqrt, n_estimators=100\n",
      "[CV 4/5; 16/18] END criterion=entropy, max_depth=8, max_features=sqrt, n_estimators=100;, score=0.787 total time=   0.1s\n",
      "[CV 5/5; 16/18] START criterion=entropy, max_depth=8, max_features=sqrt, n_estimators=100\n",
      "[CV 5/5; 16/18] END criterion=entropy, max_depth=8, max_features=sqrt, n_estimators=100;, score=0.815 total time=   0.1s\n",
      "[CV 1/5; 17/18] START criterion=entropy, max_depth=8, max_features=sqrt, n_estimators=200\n",
      "[CV 1/5; 17/18] END criterion=entropy, max_depth=8, max_features=sqrt, n_estimators=200;, score=0.832 total time=   0.3s\n",
      "[CV 2/5; 17/18] START criterion=entropy, max_depth=8, max_features=sqrt, n_estimators=200\n",
      "[CV 2/5; 17/18] END criterion=entropy, max_depth=8, max_features=sqrt, n_estimators=200;, score=0.809 total time=   0.2s\n",
      "[CV 3/5; 17/18] START criterion=entropy, max_depth=8, max_features=sqrt, n_estimators=200\n",
      "[CV 3/5; 17/18] END criterion=entropy, max_depth=8, max_features=sqrt, n_estimators=200;, score=0.854 total time=   0.1s\n",
      "[CV 4/5; 17/18] START criterion=entropy, max_depth=8, max_features=sqrt, n_estimators=200\n",
      "[CV 4/5; 17/18] END criterion=entropy, max_depth=8, max_features=sqrt, n_estimators=200;, score=0.798 total time=   0.1s\n",
      "[CV 5/5; 17/18] START criterion=entropy, max_depth=8, max_features=sqrt, n_estimators=200\n",
      "[CV 5/5; 17/18] END criterion=entropy, max_depth=8, max_features=sqrt, n_estimators=200;, score=0.820 total time=   0.1s\n",
      "[CV 1/5; 18/18] START criterion=entropy, max_depth=8, max_features=sqrt, n_estimators=300\n",
      "[CV 1/5; 18/18] END criterion=entropy, max_depth=8, max_features=sqrt, n_estimators=300;, score=0.832 total time=   0.2s\n",
      "[CV 2/5; 18/18] START criterion=entropy, max_depth=8, max_features=sqrt, n_estimators=300\n",
      "[CV 2/5; 18/18] END criterion=entropy, max_depth=8, max_features=sqrt, n_estimators=300;, score=0.809 total time=   0.4s\n",
      "[CV 3/5; 18/18] START criterion=entropy, max_depth=8, max_features=sqrt, n_estimators=300\n",
      "[CV 3/5; 18/18] END criterion=entropy, max_depth=8, max_features=sqrt, n_estimators=300;, score=0.843 total time=   0.3s\n",
      "[CV 4/5; 18/18] START criterion=entropy, max_depth=8, max_features=sqrt, n_estimators=300\n",
      "[CV 4/5; 18/18] END criterion=entropy, max_depth=8, max_features=sqrt, n_estimators=300;, score=0.798 total time=   0.2s\n",
      "[CV 5/5; 18/18] START criterion=entropy, max_depth=8, max_features=sqrt, n_estimators=300\n",
      "[CV 5/5; 18/18] END criterion=entropy, max_depth=8, max_features=sqrt, n_estimators=300;, score=0.826 total time=   0.2s\n",
      "\n",
      "Best hyperparameters: {'criterion': 'entropy', 'max_depth': 4, 'max_features': 'sqrt', 'n_estimators': 100}\n"
     ]
    }
   ],
   "source": [
    "rfc = RandomForestClassifier(random_state=42, \n",
    "                             n_jobs=-1 # Use all cores on your machine\n",
    "                            )\n",
    "param_grid = { \n",
    "    'n_estimators': [100, 200, 300], # The number of boosting stages to perform\n",
    "    'max_features': ['sqrt'], # The number of features to consider when looking for the best split\n",
    "    'max_depth' : [4, 6, 8], # The maximum depth of the individual regression estimators.\n",
    "    'criterion' :['gini', 'entropy'] #Function to measure the quality of a split\n",
    "}\n",
    "CV_rfc = GridSearchCV(estimator=rfc, param_grid=param_grid, cv=5, scoring = 'accuracy', verbose = 10)\n",
    "CV_rfc.fit(X, y)\n",
    "print('')\n",
    "print('Best hyperparameters:',CV_rfc.best_params_)\n",
    "\n",
    "X_test = test.drop('PassengerId', axis = 1)\n",
    "predictions = CV_rfc.predict(X_test)\n",
    "\n",
    "output = pd.DataFrame({'PassengerId': test.PassengerId,\n",
    "                      'Survived': predictions})\n",
    "\n",
    "output.to_csv('titanic-submission.csv', index= False)"
   ]
  },
  {
   "cell_type": "code",
   "execution_count": null,
   "metadata": {},
   "outputs": [],
   "source": []
  },
  {
   "cell_type": "code",
   "execution_count": null,
   "metadata": {},
   "outputs": [],
   "source": []
  },
  {
   "cell_type": "code",
   "execution_count": null,
   "metadata": {},
   "outputs": [],
   "source": []
  }
 ],
 "metadata": {
  "kernelspec": {
   "display_name": ".venv",
   "language": "python",
   "name": "python3"
  },
  "language_info": {
   "codemirror_mode": {
    "name": "ipython",
    "version": 3
   },
   "file_extension": ".py",
   "mimetype": "text/x-python",
   "name": "python",
   "nbconvert_exporter": "python",
   "pygments_lexer": "ipython3",
   "version": "3.10.15"
  }
 },
 "nbformat": 4,
 "nbformat_minor": 2
}
